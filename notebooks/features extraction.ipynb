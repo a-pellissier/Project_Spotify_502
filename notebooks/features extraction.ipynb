{
 "cells": [
  {
   "cell_type": "code",
   "execution_count": 17,
   "metadata": {},
   "outputs": [],
   "source": [
    "%load_ext autoreload\n",
    "%autoreload "
   ]
  },
  {
   "cell_type": "code",
   "execution_count": 1,
   "metadata": {},
   "outputs": [],
   "source": [
    "import pandas as pd\n",
    "import os\n",
    "import librosa"
   ]
  },
  {
   "cell_type": "code",
   "execution_count": 2,
   "metadata": {},
   "outputs": [],
   "source": [
    "from Project_Spotify_502 import utils, features"
   ]
  },
  {
   "cell_type": "code",
   "execution_count": 3,
   "metadata": {},
   "outputs": [],
   "source": [
    "AUDIO_DIR = os.environ.get('AUDIO_DIR')"
   ]
  },
  {
   "cell_type": "code",
   "execution_count": 4,
   "metadata": {},
   "outputs": [
    {
     "name": "stdout",
     "output_type": "stream",
     "text": [
      "/home/achot/code/a-pellissier/Project_Spotify_502/raw_data/fma_small/fma_small\n"
     ]
    }
   ],
   "source": [
    "print(AUDIO_DIR)"
   ]
  },
  {
   "cell_type": "code",
   "execution_count": 5,
   "metadata": {},
   "outputs": [],
   "source": [
    "filepath = utils.get_audio_path(AUDIO_DIR, 2)"
   ]
  },
  {
   "cell_type": "code",
   "execution_count": 6,
   "metadata": {},
   "outputs": [
    {
     "name": "stderr",
     "output_type": "stream",
     "text": [
      "/home/achot/.pyenv/versions/3.8.5/envs/spotify-502/lib/python3.8/site-packages/librosa/core/audio.py:162: UserWarning: PySoundFile failed. Trying audioread instead.\n",
      "  warnings.warn(\"PySoundFile failed. Trying audioread instead.\")\n"
     ]
    }
   ],
   "source": [
    "x, sr = librosa.load(filepath, sr=None, mono=True)  # kaiser_fast"
   ]
  },
  {
   "cell_type": "code",
   "execution_count": 7,
   "metadata": {},
   "outputs": [
    {
     "data": {
      "text/plain": [
       "array([ 0.        ,  0.        ,  0.        , ..., -0.24734497,\n",
       "       -0.19889832, -0.10516357], dtype=float32)"
      ]
     },
     "execution_count": 7,
     "metadata": {},
     "output_type": "execute_result"
    }
   ],
   "source": [
    "x"
   ]
  },
  {
   "cell_type": "code",
   "execution_count": 12,
   "metadata": {},
   "outputs": [],
   "source": [
    "features_track_id_2 = pd.read_csv('../Project_Spotify_502/features_new.csv')"
   ]
  },
  {
   "cell_type": "code",
   "execution_count": 13,
   "metadata": {},
   "outputs": [
    {
     "data": {
      "text/html": [
       "<div>\n",
       "<style scoped>\n",
       "    .dataframe tbody tr th:only-of-type {\n",
       "        vertical-align: middle;\n",
       "    }\n",
       "\n",
       "    .dataframe tbody tr th {\n",
       "        vertical-align: top;\n",
       "    }\n",
       "\n",
       "    .dataframe thead th {\n",
       "        text-align: right;\n",
       "    }\n",
       "</style>\n",
       "<table border=\"1\" class=\"dataframe\">\n",
       "  <thead>\n",
       "    <tr style=\"text-align: right;\">\n",
       "      <th></th>\n",
       "      <th>0</th>\n",
       "      <th>1</th>\n",
       "      <th>2</th>\n",
       "      <th>3</th>\n",
       "      <th>4</th>\n",
       "      <th>5</th>\n",
       "      <th>6</th>\n",
       "      <th>7</th>\n",
       "      <th>8</th>\n",
       "      <th>9</th>\n",
       "      <th>...</th>\n",
       "      <th>508</th>\n",
       "      <th>509</th>\n",
       "      <th>510</th>\n",
       "      <th>511</th>\n",
       "      <th>512</th>\n",
       "      <th>513</th>\n",
       "      <th>514</th>\n",
       "      <th>515</th>\n",
       "      <th>516</th>\n",
       "      <th>517</th>\n",
       "    </tr>\n",
       "  </thead>\n",
       "  <tbody>\n",
       "    <tr>\n",
       "      <th>feature</th>\n",
       "      <td>chroma_cens</td>\n",
       "      <td>chroma_cens</td>\n",
       "      <td>chroma_cens</td>\n",
       "      <td>chroma_cens</td>\n",
       "      <td>chroma_cens</td>\n",
       "      <td>chroma_cens</td>\n",
       "      <td>chroma_cens</td>\n",
       "      <td>chroma_cens</td>\n",
       "      <td>chroma_cens</td>\n",
       "      <td>chroma_cens</td>\n",
       "      <td>...</td>\n",
       "      <td>tonnetz</td>\n",
       "      <td>tonnetz</td>\n",
       "      <td>tonnetz</td>\n",
       "      <td>zcr</td>\n",
       "      <td>zcr</td>\n",
       "      <td>zcr</td>\n",
       "      <td>zcr</td>\n",
       "      <td>zcr</td>\n",
       "      <td>zcr</td>\n",
       "      <td>zcr</td>\n",
       "    </tr>\n",
       "    <tr>\n",
       "      <th>statistics</th>\n",
       "      <td>kurtosis</td>\n",
       "      <td>kurtosis</td>\n",
       "      <td>kurtosis</td>\n",
       "      <td>kurtosis</td>\n",
       "      <td>kurtosis</td>\n",
       "      <td>kurtosis</td>\n",
       "      <td>kurtosis</td>\n",
       "      <td>kurtosis</td>\n",
       "      <td>kurtosis</td>\n",
       "      <td>kurtosis</td>\n",
       "      <td>...</td>\n",
       "      <td>std</td>\n",
       "      <td>std</td>\n",
       "      <td>std</td>\n",
       "      <td>kurtosis</td>\n",
       "      <td>max</td>\n",
       "      <td>mean</td>\n",
       "      <td>median</td>\n",
       "      <td>min</td>\n",
       "      <td>skew</td>\n",
       "      <td>std</td>\n",
       "    </tr>\n",
       "    <tr>\n",
       "      <th>number</th>\n",
       "      <td>1</td>\n",
       "      <td>2</td>\n",
       "      <td>3</td>\n",
       "      <td>4</td>\n",
       "      <td>5</td>\n",
       "      <td>6</td>\n",
       "      <td>7</td>\n",
       "      <td>8</td>\n",
       "      <td>9</td>\n",
       "      <td>10</td>\n",
       "      <td>...</td>\n",
       "      <td>4</td>\n",
       "      <td>5</td>\n",
       "      <td>6</td>\n",
       "      <td>1</td>\n",
       "      <td>1</td>\n",
       "      <td>1</td>\n",
       "      <td>1</td>\n",
       "      <td>1</td>\n",
       "      <td>1</td>\n",
       "      <td>1</td>\n",
       "    </tr>\n",
       "    <tr>\n",
       "      <th>2</th>\n",
       "      <td>-0.234454</td>\n",
       "      <td>-0.723562</td>\n",
       "      <td>-0.550151</td>\n",
       "      <td>-0.68479</td>\n",
       "      <td>-0.545918</td>\n",
       "      <td>0.992595</td>\n",
       "      <td>0.817805</td>\n",
       "      <td>1.00311</td>\n",
       "      <td>-0.779054</td>\n",
       "      <td>0.436601</td>\n",
       "      <td>...</td>\n",
       "      <td>0.104404</td>\n",
       "      <td>0.029344</td>\n",
       "      <td>0.0379267</td>\n",
       "      <td>3.49687</td>\n",
       "      <td>0.416504</td>\n",
       "      <td>0.098366</td>\n",
       "      <td>0.0786133</td>\n",
       "      <td>0.00634766</td>\n",
       "      <td>1.82561</td>\n",
       "      <td>0.0684043</td>\n",
       "    </tr>\n",
       "  </tbody>\n",
       "</table>\n",
       "<p>4 rows × 518 columns</p>\n",
       "</div>"
      ],
      "text/plain": [
       "                    0            1            2            3            4    \\\n",
       "feature     chroma_cens  chroma_cens  chroma_cens  chroma_cens  chroma_cens   \n",
       "statistics     kurtosis     kurtosis     kurtosis     kurtosis     kurtosis   \n",
       "number                1            2            3            4            5   \n",
       "2             -0.234454    -0.723562    -0.550151     -0.68479    -0.545918   \n",
       "\n",
       "                    5            6            7            8            9    \\\n",
       "feature     chroma_cens  chroma_cens  chroma_cens  chroma_cens  chroma_cens   \n",
       "statistics     kurtosis     kurtosis     kurtosis     kurtosis     kurtosis   \n",
       "number                6            7            8            9           10   \n",
       "2              0.992595     0.817805      1.00311    -0.779054     0.436601   \n",
       "\n",
       "            ...       508       509        510       511       512       513  \\\n",
       "feature     ...   tonnetz   tonnetz    tonnetz       zcr       zcr       zcr   \n",
       "statistics  ...       std       std        std  kurtosis       max      mean   \n",
       "number      ...         4         5          6         1         1         1   \n",
       "2           ...  0.104404  0.029344  0.0379267   3.49687  0.416504  0.098366   \n",
       "\n",
       "                  514         515      516        517  \n",
       "feature           zcr         zcr      zcr        zcr  \n",
       "statistics     median         min     skew        std  \n",
       "number              1           1        1          1  \n",
       "2           0.0786133  0.00634766  1.82561  0.0684043  \n",
       "\n",
       "[4 rows x 518 columns]"
      ]
     },
     "execution_count": 13,
     "metadata": {},
     "output_type": "execute_result"
    }
   ],
   "source": [
    "features_track_id_2.transpose()"
   ]
  },
  {
   "cell_type": "code",
   "execution_count": 20,
   "metadata": {},
   "outputs": [],
   "source": [
    "features = pd.read_csv('../raw_data/fma_metadata/features.csv', header=[0,1,2], index_col=0, nrows=10000)"
   ]
  },
  {
   "cell_type": "code",
   "execution_count": 24,
   "metadata": {},
   "outputs": [],
   "source": [
    "tracks = utils.load('../raw_data/fma_metadata/tracks.csv')"
   ]
  },
  {
   "cell_type": "code",
   "execution_count": 27,
   "metadata": {},
   "outputs": [
    {
     "data": {
      "text/plain": [
       "album   comments                                                             0\n",
       "        date_created                                       2009-11-12 04:56:59\n",
       "        date_released                                                      NaT\n",
       "        engineer                                                           NaN\n",
       "        favorites                                                            0\n",
       "        id                                                                4660\n",
       "        information                                                        NaN\n",
       "        listens                                                           2501\n",
       "        producer                                                           NaN\n",
       "        tags                                                                []\n",
       "        title                                            Enter The Cotton Ring\n",
       "        tracks                                                               8\n",
       "        type                                                             Album\n",
       "artist  active_year_begin                                                  NaT\n",
       "        active_year_end                                                    NaT\n",
       "        associated_labels                                                  NaN\n",
       "        bio                                                                NaN\n",
       "        comments                                                             0\n",
       "        date_created                                       2008-12-04 09:25:42\n",
       "        favorites                                                            2\n",
       "        id                                                                 833\n",
       "        latitude                                                       39.2904\n",
       "        location                                                 Baltimore, MD\n",
       "        longitude                                                     -76.6122\n",
       "        members                                Chiara Giovando, Jenny Sheppard\n",
       "        name                                                           Harrius\n",
       "        related_projects                                   The Guitars Project\n",
       "        tags                                                         [harrius]\n",
       "        website                        http://www.ehserecords.com/ehse005.html\n",
       "        wikipedia_page                                                     NaN\n",
       "set     split                                                       validation\n",
       "        subset                                                           small\n",
       "track   bit_rate                                                        256000\n",
       "        comments                                                             0\n",
       "        composer                                                           NaN\n",
       "        date_created                                       2009-11-12 05:02:11\n",
       "        date_recorded                                                      NaT\n",
       "        duration                                                           354\n",
       "        favorites                                                            0\n",
       "        genre_top                                                 Experimental\n",
       "        genres                                                        [32, 38]\n",
       "        genres_all                                                    [32, 38]\n",
       "        information                                                        NaN\n",
       "        interest                                                          6945\n",
       "        language_code                                                       en\n",
       "        license              Attribution-Noncommercial-Share Alike 3.0 Unit...\n",
       "        listens                                                           1815\n",
       "        lyricist                                                           NaN\n",
       "        number                                                               3\n",
       "        publisher                                                          NaN\n",
       "        tags                                                                []\n",
       "        title                                              03 The Wedding Ring\n",
       "Name: 20818, dtype: object"
      ]
     },
     "execution_count": 27,
     "metadata": {},
     "output_type": "execute_result"
    }
   ],
   "source": [
    "tracks.loc[20818,:]"
   ]
  },
  {
   "cell_type": "code",
   "execution_count": null,
   "metadata": {},
   "outputs": [],
   "source": []
  }
 ],
 "metadata": {
  "kernelspec": {
   "display_name": "Python 3",
   "language": "python",
   "name": "python3"
  },
  "language_info": {
   "codemirror_mode": {
    "name": "ipython",
    "version": 3
   },
   "file_extension": ".py",
   "mimetype": "text/x-python",
   "name": "python",
   "nbconvert_exporter": "python",
   "pygments_lexer": "ipython3",
   "version": "3.8.5"
  },
  "toc": {
   "base_numbering": 1,
   "nav_menu": {},
   "number_sections": true,
   "sideBar": true,
   "skip_h1_title": false,
   "title_cell": "Table of Contents",
   "title_sidebar": "Contents",
   "toc_cell": false,
   "toc_position": {},
   "toc_section_display": true,
   "toc_window_display": false
  },
  "varInspector": {
   "cols": {
    "lenName": 16,
    "lenType": 16,
    "lenVar": 40
   },
   "kernels_config": {
    "python": {
     "delete_cmd_postfix": "",
     "delete_cmd_prefix": "del ",
     "library": "var_list.py",
     "varRefreshCmd": "print(var_dic_list())"
    },
    "r": {
     "delete_cmd_postfix": ") ",
     "delete_cmd_prefix": "rm(",
     "library": "var_list.r",
     "varRefreshCmd": "cat(var_dic_list()) "
    }
   },
   "types_to_exclude": [
    "module",
    "function",
    "builtin_function_or_method",
    "instance",
    "_Feature"
   ],
   "window_display": false
  }
 },
 "nbformat": 4,
 "nbformat_minor": 4
}
