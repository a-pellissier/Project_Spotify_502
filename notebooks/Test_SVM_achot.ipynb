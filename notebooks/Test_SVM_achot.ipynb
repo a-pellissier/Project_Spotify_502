{
 "cells": [
  {
   "cell_type": "code",
   "execution_count": 2,
   "metadata": {
    "ExecuteTime": {
     "end_time": "2020-12-06T16:52:09.369560Z",
     "start_time": "2020-12-06T16:52:09.316228Z"
    }
   },
   "outputs": [],
   "source": [
    "%load_ext autoreload\n",
    "%autoreload 2"
   ]
  },
  {
   "cell_type": "code",
   "execution_count": 4,
   "metadata": {
    "ExecuteTime": {
     "end_time": "2020-12-06T16:52:17.366152Z",
     "start_time": "2020-12-06T16:52:17.326834Z"
    }
   },
   "outputs": [],
   "source": [
    "from Project_Spotify_502.utils_spotify import Data_ML\n",
    "from Project_Spotify_502.trainer import Trainer\n",
    "import pandas as pd"
   ]
  },
  {
   "cell_type": "markdown",
   "metadata": {},
   "source": [
    "# Data Loading + expl"
   ]
  },
  {
   "cell_type": "code",
   "execution_count": 75,
   "metadata": {
    "ExecuteTime": {
     "end_time": "2020-12-06T17:48:29.811112Z",
     "start_time": "2020-12-06T17:48:12.881995Z"
    }
   },
   "outputs": [],
   "source": [
    "X, Y = Data_ML().get_data_numeric('medium', 8)\n",
    "\n",
    "X_train, X_val = X[0], X[1]\n",
    "y_train, y_val = Y[0], Y[1]"
   ]
  },
  {
   "cell_type": "code",
   "execution_count": 61,
   "metadata": {
    "ExecuteTime": {
     "end_time": "2020-12-06T17:37:22.691183Z",
     "start_time": "2020-12-06T17:37:22.571996Z"
    }
   },
   "outputs": [],
   "source": [
    "X_a = pd.read_csv('../raw_data/achot_likes/features.csv', header=[0, 1, 2])\n",
    "y_a = pd.read_csv('../raw_data/achot_likes/target.csv')"
   ]
  },
  {
   "cell_type": "code",
   "execution_count": 62,
   "metadata": {
    "ExecuteTime": {
     "end_time": "2020-12-06T17:37:23.450473Z",
     "start_time": "2020-12-06T17:37:23.414547Z"
    }
   },
   "outputs": [
    {
     "data": {
      "text/html": [
       "<div>\n",
       "<style scoped>\n",
       "    .dataframe tbody tr th:only-of-type {\n",
       "        vertical-align: middle;\n",
       "    }\n",
       "\n",
       "    .dataframe tbody tr th {\n",
       "        vertical-align: top;\n",
       "    }\n",
       "\n",
       "    .dataframe thead th {\n",
       "        text-align: right;\n",
       "    }\n",
       "</style>\n",
       "<table border=\"1\" class=\"dataframe\">\n",
       "  <thead>\n",
       "    <tr style=\"text-align: right;\">\n",
       "      <th></th>\n",
       "      <th>main_genre</th>\n",
       "    </tr>\n",
       "    <tr>\n",
       "      <th>tid</th>\n",
       "      <th></th>\n",
       "    </tr>\n",
       "  </thead>\n",
       "  <tbody>\n",
       "    <tr>\n",
       "      <th>3FrbLRZXo94g9dnJzxQLNP</th>\n",
       "      <td>Hip-Hop</td>\n",
       "    </tr>\n",
       "    <tr>\n",
       "      <th>3p8gCuWrboUB6aSgXpGh8m</th>\n",
       "      <td>Pop</td>\n",
       "    </tr>\n",
       "    <tr>\n",
       "      <th>12P9suCHL42jNYcxRyBez8</th>\n",
       "      <td>Hip-Hop</td>\n",
       "    </tr>\n",
       "    <tr>\n",
       "      <th>1z8gACkg32PKNLZHBb5u6V</th>\n",
       "      <td>Hip-Hop</td>\n",
       "    </tr>\n",
       "    <tr>\n",
       "      <th>6SOcs12tE00BeKlsBTIKtu</th>\n",
       "      <td>Pop</td>\n",
       "    </tr>\n",
       "  </tbody>\n",
       "</table>\n",
       "</div>"
      ],
      "text/plain": [
       "                       main_genre\n",
       "tid                              \n",
       "3FrbLRZXo94g9dnJzxQLNP    Hip-Hop\n",
       "3p8gCuWrboUB6aSgXpGh8m        Pop\n",
       "12P9suCHL42jNYcxRyBez8    Hip-Hop\n",
       "1z8gACkg32PKNLZHBb5u6V    Hip-Hop\n",
       "6SOcs12tE00BeKlsBTIKtu        Pop"
      ]
     },
     "execution_count": 62,
     "metadata": {},
     "output_type": "execute_result"
    }
   ],
   "source": [
    "y_a = y_a.set_index('tid')[['main_genre']]\n",
    "y_a.head(5)"
   ]
  },
  {
   "cell_type": "code",
   "execution_count": 63,
   "metadata": {
    "ExecuteTime": {
     "end_time": "2020-12-06T17:37:31.266766Z",
     "start_time": "2020-12-06T17:37:31.193886Z"
    }
   },
   "outputs": [
    {
     "data": {
      "text/html": [
       "<div>\n",
       "<style scoped>\n",
       "    .dataframe tbody tr th:only-of-type {\n",
       "        vertical-align: middle;\n",
       "    }\n",
       "\n",
       "    .dataframe tbody tr th {\n",
       "        vertical-align: top;\n",
       "    }\n",
       "\n",
       "    .dataframe thead tr th {\n",
       "        text-align: left;\n",
       "    }\n",
       "\n",
       "    .dataframe thead tr:last-of-type th {\n",
       "        text-align: right;\n",
       "    }\n",
       "</style>\n",
       "<table border=\"1\" class=\"dataframe\">\n",
       "  <thead>\n",
       "    <tr>\n",
       "      <th></th>\n",
       "      <th colspan=\"10\" halign=\"left\">chroma_cens</th>\n",
       "      <th>...</th>\n",
       "      <th colspan=\"3\" halign=\"left\">tonnetz</th>\n",
       "      <th colspan=\"7\" halign=\"left\">zcr</th>\n",
       "    </tr>\n",
       "    <tr>\n",
       "      <th></th>\n",
       "      <th colspan=\"10\" halign=\"left\">kurtosis</th>\n",
       "      <th>...</th>\n",
       "      <th colspan=\"3\" halign=\"left\">std</th>\n",
       "      <th>kurtosis</th>\n",
       "      <th>max</th>\n",
       "      <th>mean</th>\n",
       "      <th>median</th>\n",
       "      <th>min</th>\n",
       "      <th>skew</th>\n",
       "      <th>std</th>\n",
       "    </tr>\n",
       "    <tr>\n",
       "      <th></th>\n",
       "      <th>01</th>\n",
       "      <th>02</th>\n",
       "      <th>03</th>\n",
       "      <th>04</th>\n",
       "      <th>05</th>\n",
       "      <th>06</th>\n",
       "      <th>07</th>\n",
       "      <th>08</th>\n",
       "      <th>09</th>\n",
       "      <th>10</th>\n",
       "      <th>...</th>\n",
       "      <th>04</th>\n",
       "      <th>05</th>\n",
       "      <th>06</th>\n",
       "      <th>01</th>\n",
       "      <th>01</th>\n",
       "      <th>01</th>\n",
       "      <th>01</th>\n",
       "      <th>01</th>\n",
       "      <th>01</th>\n",
       "      <th>01</th>\n",
       "    </tr>\n",
       "    <tr>\n",
       "      <th>tid</th>\n",
       "      <th></th>\n",
       "      <th></th>\n",
       "      <th></th>\n",
       "      <th></th>\n",
       "      <th></th>\n",
       "      <th></th>\n",
       "      <th></th>\n",
       "      <th></th>\n",
       "      <th></th>\n",
       "      <th></th>\n",
       "      <th></th>\n",
       "      <th></th>\n",
       "      <th></th>\n",
       "      <th></th>\n",
       "      <th></th>\n",
       "      <th></th>\n",
       "      <th></th>\n",
       "      <th></th>\n",
       "      <th></th>\n",
       "      <th></th>\n",
       "      <th></th>\n",
       "    </tr>\n",
       "  </thead>\n",
       "  <tbody>\n",
       "    <tr>\n",
       "      <th>07HRbKdTp5JSZoIlyK0JDn</th>\n",
       "      <td>0.471995</td>\n",
       "      <td>-0.335948</td>\n",
       "      <td>0.261353</td>\n",
       "      <td>0.407784</td>\n",
       "      <td>-0.097552</td>\n",
       "      <td>2.522320</td>\n",
       "      <td>5.732785</td>\n",
       "      <td>10.675367</td>\n",
       "      <td>-0.643247</td>\n",
       "      <td>-1.238249</td>\n",
       "      <td>...</td>\n",
       "      <td>0.195157</td>\n",
       "      <td>0.061139</td>\n",
       "      <td>0.056424</td>\n",
       "      <td>3.339593</td>\n",
       "      <td>0.395020</td>\n",
       "      <td>0.078367</td>\n",
       "      <td>0.059082</td>\n",
       "      <td>0.001465</td>\n",
       "      <td>1.761657</td>\n",
       "      <td>0.070476</td>\n",
       "    </tr>\n",
       "    <tr>\n",
       "      <th>0M1IY0lf1BCs5pi4uR7YGM</th>\n",
       "      <td>-0.838925</td>\n",
       "      <td>0.265956</td>\n",
       "      <td>0.078155</td>\n",
       "      <td>-0.730444</td>\n",
       "      <td>-0.956515</td>\n",
       "      <td>2.115242</td>\n",
       "      <td>-0.952679</td>\n",
       "      <td>-0.595896</td>\n",
       "      <td>8.532173</td>\n",
       "      <td>3.501404</td>\n",
       "      <td>...</td>\n",
       "      <td>0.210384</td>\n",
       "      <td>0.081395</td>\n",
       "      <td>0.114083</td>\n",
       "      <td>11.457108</td>\n",
       "      <td>0.405762</td>\n",
       "      <td>0.057853</td>\n",
       "      <td>0.047363</td>\n",
       "      <td>0.001953</td>\n",
       "      <td>2.811845</td>\n",
       "      <td>0.049764</td>\n",
       "    </tr>\n",
       "    <tr>\n",
       "      <th>0NfYAsKygCYwPA2BgTZ1qg</th>\n",
       "      <td>-0.589931</td>\n",
       "      <td>1.137621</td>\n",
       "      <td>-0.754070</td>\n",
       "      <td>0.056590</td>\n",
       "      <td>-0.125952</td>\n",
       "      <td>0.078511</td>\n",
       "      <td>1.394154</td>\n",
       "      <td>0.157336</td>\n",
       "      <td>0.291657</td>\n",
       "      <td>-0.865689</td>\n",
       "      <td>...</td>\n",
       "      <td>0.137444</td>\n",
       "      <td>0.039767</td>\n",
       "      <td>0.041169</td>\n",
       "      <td>6.306376</td>\n",
       "      <td>0.445312</td>\n",
       "      <td>0.079602</td>\n",
       "      <td>0.067383</td>\n",
       "      <td>0.003418</td>\n",
       "      <td>2.144879</td>\n",
       "      <td>0.058249</td>\n",
       "    </tr>\n",
       "    <tr>\n",
       "      <th>0PrmzdPOWxOw8rfUEZAVry</th>\n",
       "      <td>1.754033</td>\n",
       "      <td>0.468994</td>\n",
       "      <td>-0.587604</td>\n",
       "      <td>0.505441</td>\n",
       "      <td>2.614183</td>\n",
       "      <td>1.356851</td>\n",
       "      <td>0.601550</td>\n",
       "      <td>3.036253</td>\n",
       "      <td>1.467916</td>\n",
       "      <td>-0.308902</td>\n",
       "      <td>...</td>\n",
       "      <td>0.120409</td>\n",
       "      <td>0.049753</td>\n",
       "      <td>0.040972</td>\n",
       "      <td>11.941812</td>\n",
       "      <td>0.278320</td>\n",
       "      <td>0.029588</td>\n",
       "      <td>0.019043</td>\n",
       "      <td>0.001953</td>\n",
       "      <td>3.104338</td>\n",
       "      <td>0.035471</td>\n",
       "    </tr>\n",
       "    <tr>\n",
       "      <th>0XrnC0Kb0q7if8eaOXE0TI</th>\n",
       "      <td>0.554935</td>\n",
       "      <td>1.498734</td>\n",
       "      <td>-0.904782</td>\n",
       "      <td>1.444452</td>\n",
       "      <td>0.033368</td>\n",
       "      <td>5.024167</td>\n",
       "      <td>0.524895</td>\n",
       "      <td>-0.792487</td>\n",
       "      <td>11.080832</td>\n",
       "      <td>5.476508</td>\n",
       "      <td>...</td>\n",
       "      <td>0.094832</td>\n",
       "      <td>0.112879</td>\n",
       "      <td>0.081274</td>\n",
       "      <td>36.744335</td>\n",
       "      <td>0.513184</td>\n",
       "      <td>0.034530</td>\n",
       "      <td>0.021484</td>\n",
       "      <td>0.001465</td>\n",
       "      <td>5.078551</td>\n",
       "      <td>0.048981</td>\n",
       "    </tr>\n",
       "  </tbody>\n",
       "</table>\n",
       "<p>5 rows × 518 columns</p>\n",
       "</div>"
      ],
      "text/plain": [
       "                       chroma_cens                                          \\\n",
       "                          kurtosis                                           \n",
       "                                01        02        03        04        05   \n",
       "tid                                                                          \n",
       "07HRbKdTp5JSZoIlyK0JDn    0.471995 -0.335948  0.261353  0.407784 -0.097552   \n",
       "0M1IY0lf1BCs5pi4uR7YGM   -0.838925  0.265956  0.078155 -0.730444 -0.956515   \n",
       "0NfYAsKygCYwPA2BgTZ1qg   -0.589931  1.137621 -0.754070  0.056590 -0.125952   \n",
       "0PrmzdPOWxOw8rfUEZAVry    1.754033  0.468994 -0.587604  0.505441  2.614183   \n",
       "0XrnC0Kb0q7if8eaOXE0TI    0.554935  1.498734 -0.904782  1.444452  0.033368   \n",
       "\n",
       "                                                                            \\\n",
       "                                                                             \n",
       "                              06        07         08         09        10   \n",
       "tid                                                                          \n",
       "07HRbKdTp5JSZoIlyK0JDn  2.522320  5.732785  10.675367  -0.643247 -1.238249   \n",
       "0M1IY0lf1BCs5pi4uR7YGM  2.115242 -0.952679  -0.595896   8.532173  3.501404   \n",
       "0NfYAsKygCYwPA2BgTZ1qg  0.078511  1.394154   0.157336   0.291657 -0.865689   \n",
       "0PrmzdPOWxOw8rfUEZAVry  1.356851  0.601550   3.036253   1.467916 -0.308902   \n",
       "0XrnC0Kb0q7if8eaOXE0TI  5.024167  0.524895  -0.792487  11.080832  5.476508   \n",
       "\n",
       "                        ...   tonnetz                            zcr  \\\n",
       "                        ...       std                       kurtosis   \n",
       "                        ...        04        05        06         01   \n",
       "tid                     ...                                            \n",
       "07HRbKdTp5JSZoIlyK0JDn  ...  0.195157  0.061139  0.056424   3.339593   \n",
       "0M1IY0lf1BCs5pi4uR7YGM  ...  0.210384  0.081395  0.114083  11.457108   \n",
       "0NfYAsKygCYwPA2BgTZ1qg  ...  0.137444  0.039767  0.041169   6.306376   \n",
       "0PrmzdPOWxOw8rfUEZAVry  ...  0.120409  0.049753  0.040972  11.941812   \n",
       "0XrnC0Kb0q7if8eaOXE0TI  ...  0.094832  0.112879  0.081274  36.744335   \n",
       "\n",
       "                                                                          \\\n",
       "                             max      mean    median       min      skew   \n",
       "                              01        01        01        01        01   \n",
       "tid                                                                        \n",
       "07HRbKdTp5JSZoIlyK0JDn  0.395020  0.078367  0.059082  0.001465  1.761657   \n",
       "0M1IY0lf1BCs5pi4uR7YGM  0.405762  0.057853  0.047363  0.001953  2.811845   \n",
       "0NfYAsKygCYwPA2BgTZ1qg  0.445312  0.079602  0.067383  0.003418  2.144879   \n",
       "0PrmzdPOWxOw8rfUEZAVry  0.278320  0.029588  0.019043  0.001953  3.104338   \n",
       "0XrnC0Kb0q7if8eaOXE0TI  0.513184  0.034530  0.021484  0.001465  5.078551   \n",
       "\n",
       "                                  \n",
       "                             std  \n",
       "                              01  \n",
       "tid                               \n",
       "07HRbKdTp5JSZoIlyK0JDn  0.070476  \n",
       "0M1IY0lf1BCs5pi4uR7YGM  0.049764  \n",
       "0NfYAsKygCYwPA2BgTZ1qg  0.058249  \n",
       "0PrmzdPOWxOw8rfUEZAVry  0.035471  \n",
       "0XrnC0Kb0q7if8eaOXE0TI  0.048981  \n",
       "\n",
       "[5 rows x 518 columns]"
      ]
     },
     "execution_count": 63,
     "metadata": {},
     "output_type": "execute_result"
    }
   ],
   "source": [
    "X_a = X_a.set_index(('feature', 'statistics', 'number')).rename_axis('tid')\n",
    "X_a.head(5)"
   ]
  },
  {
   "cell_type": "code",
   "execution_count": 64,
   "metadata": {
    "ExecuteTime": {
     "end_time": "2020-12-06T17:37:39.984977Z",
     "start_time": "2020-12-06T17:37:39.916871Z"
    }
   },
   "outputs": [
    {
     "name": "stderr",
     "output_type": "stream",
     "text": [
      "/Users/alexisfayolle/.pyenv/versions/3.8.6/envs/spotify-502/lib/python3.8/site-packages/pandas/core/reshape/merge.py:643: UserWarning: merging between different levels can give an unintended result (3 levels on the left,1 on the right)\n",
      "  warnings.warn(msg, UserWarning)\n"
     ]
    },
    {
     "data": {
      "text/html": [
       "<div>\n",
       "<style scoped>\n",
       "    .dataframe tbody tr th:only-of-type {\n",
       "        vertical-align: middle;\n",
       "    }\n",
       "\n",
       "    .dataframe tbody tr th {\n",
       "        vertical-align: top;\n",
       "    }\n",
       "\n",
       "    .dataframe thead th {\n",
       "        text-align: right;\n",
       "    }\n",
       "</style>\n",
       "<table border=\"1\" class=\"dataframe\">\n",
       "  <thead>\n",
       "    <tr style=\"text-align: right;\">\n",
       "      <th></th>\n",
       "      <th>(chroma_cens, kurtosis, 01)</th>\n",
       "      <th>(chroma_cens, kurtosis, 02)</th>\n",
       "      <th>(chroma_cens, kurtosis, 03)</th>\n",
       "      <th>(chroma_cens, kurtosis, 04)</th>\n",
       "      <th>(chroma_cens, kurtosis, 05)</th>\n",
       "      <th>(chroma_cens, kurtosis, 06)</th>\n",
       "      <th>(chroma_cens, kurtosis, 07)</th>\n",
       "      <th>(chroma_cens, kurtosis, 08)</th>\n",
       "      <th>(chroma_cens, kurtosis, 09)</th>\n",
       "      <th>(chroma_cens, kurtosis, 10)</th>\n",
       "      <th>...</th>\n",
       "      <th>(tonnetz, std, 05)</th>\n",
       "      <th>(tonnetz, std, 06)</th>\n",
       "      <th>(zcr, kurtosis, 01)</th>\n",
       "      <th>(zcr, max, 01)</th>\n",
       "      <th>(zcr, mean, 01)</th>\n",
       "      <th>(zcr, median, 01)</th>\n",
       "      <th>(zcr, min, 01)</th>\n",
       "      <th>(zcr, skew, 01)</th>\n",
       "      <th>(zcr, std, 01)</th>\n",
       "      <th>main_genre</th>\n",
       "    </tr>\n",
       "    <tr>\n",
       "      <th>tid</th>\n",
       "      <th></th>\n",
       "      <th></th>\n",
       "      <th></th>\n",
       "      <th></th>\n",
       "      <th></th>\n",
       "      <th></th>\n",
       "      <th></th>\n",
       "      <th></th>\n",
       "      <th></th>\n",
       "      <th></th>\n",
       "      <th></th>\n",
       "      <th></th>\n",
       "      <th></th>\n",
       "      <th></th>\n",
       "      <th></th>\n",
       "      <th></th>\n",
       "      <th></th>\n",
       "      <th></th>\n",
       "      <th></th>\n",
       "      <th></th>\n",
       "      <th></th>\n",
       "    </tr>\n",
       "  </thead>\n",
       "  <tbody>\n",
       "    <tr>\n",
       "      <th>07HRbKdTp5JSZoIlyK0JDn</th>\n",
       "      <td>0.471995</td>\n",
       "      <td>-0.335948</td>\n",
       "      <td>0.261353</td>\n",
       "      <td>0.407784</td>\n",
       "      <td>-0.097552</td>\n",
       "      <td>2.522320</td>\n",
       "      <td>5.732785</td>\n",
       "      <td>10.675367</td>\n",
       "      <td>-0.643247</td>\n",
       "      <td>-1.238249</td>\n",
       "      <td>...</td>\n",
       "      <td>0.061139</td>\n",
       "      <td>0.056424</td>\n",
       "      <td>3.339593</td>\n",
       "      <td>0.395020</td>\n",
       "      <td>0.078367</td>\n",
       "      <td>0.059082</td>\n",
       "      <td>0.001465</td>\n",
       "      <td>1.761657</td>\n",
       "      <td>0.070476</td>\n",
       "      <td>Electronic</td>\n",
       "    </tr>\n",
       "    <tr>\n",
       "      <th>0M1IY0lf1BCs5pi4uR7YGM</th>\n",
       "      <td>-0.838925</td>\n",
       "      <td>0.265956</td>\n",
       "      <td>0.078155</td>\n",
       "      <td>-0.730444</td>\n",
       "      <td>-0.956515</td>\n",
       "      <td>2.115242</td>\n",
       "      <td>-0.952679</td>\n",
       "      <td>-0.595896</td>\n",
       "      <td>8.532173</td>\n",
       "      <td>3.501404</td>\n",
       "      <td>...</td>\n",
       "      <td>0.081395</td>\n",
       "      <td>0.114083</td>\n",
       "      <td>11.457108</td>\n",
       "      <td>0.405762</td>\n",
       "      <td>0.057853</td>\n",
       "      <td>0.047363</td>\n",
       "      <td>0.001953</td>\n",
       "      <td>2.811845</td>\n",
       "      <td>0.049764</td>\n",
       "      <td>Hip-Hop</td>\n",
       "    </tr>\n",
       "    <tr>\n",
       "      <th>0NfYAsKygCYwPA2BgTZ1qg</th>\n",
       "      <td>-0.589931</td>\n",
       "      <td>1.137621</td>\n",
       "      <td>-0.754070</td>\n",
       "      <td>0.056590</td>\n",
       "      <td>-0.125952</td>\n",
       "      <td>0.078511</td>\n",
       "      <td>1.394154</td>\n",
       "      <td>0.157336</td>\n",
       "      <td>0.291657</td>\n",
       "      <td>-0.865689</td>\n",
       "      <td>...</td>\n",
       "      <td>0.039767</td>\n",
       "      <td>0.041169</td>\n",
       "      <td>6.306376</td>\n",
       "      <td>0.445312</td>\n",
       "      <td>0.079602</td>\n",
       "      <td>0.067383</td>\n",
       "      <td>0.003418</td>\n",
       "      <td>2.144879</td>\n",
       "      <td>0.058249</td>\n",
       "      <td>Hip-Hop</td>\n",
       "    </tr>\n",
       "    <tr>\n",
       "      <th>0PrmzdPOWxOw8rfUEZAVry</th>\n",
       "      <td>1.754033</td>\n",
       "      <td>0.468994</td>\n",
       "      <td>-0.587604</td>\n",
       "      <td>0.505441</td>\n",
       "      <td>2.614183</td>\n",
       "      <td>1.356851</td>\n",
       "      <td>0.601550</td>\n",
       "      <td>3.036253</td>\n",
       "      <td>1.467916</td>\n",
       "      <td>-0.308902</td>\n",
       "      <td>...</td>\n",
       "      <td>0.049753</td>\n",
       "      <td>0.040972</td>\n",
       "      <td>11.941812</td>\n",
       "      <td>0.278320</td>\n",
       "      <td>0.029588</td>\n",
       "      <td>0.019043</td>\n",
       "      <td>0.001953</td>\n",
       "      <td>3.104338</td>\n",
       "      <td>0.035471</td>\n",
       "      <td>Hip-Hop</td>\n",
       "    </tr>\n",
       "    <tr>\n",
       "      <th>0XrnC0Kb0q7if8eaOXE0TI</th>\n",
       "      <td>0.554935</td>\n",
       "      <td>1.498734</td>\n",
       "      <td>-0.904782</td>\n",
       "      <td>1.444452</td>\n",
       "      <td>0.033368</td>\n",
       "      <td>5.024167</td>\n",
       "      <td>0.524895</td>\n",
       "      <td>-0.792487</td>\n",
       "      <td>11.080832</td>\n",
       "      <td>5.476508</td>\n",
       "      <td>...</td>\n",
       "      <td>0.112879</td>\n",
       "      <td>0.081274</td>\n",
       "      <td>36.744335</td>\n",
       "      <td>0.513184</td>\n",
       "      <td>0.034530</td>\n",
       "      <td>0.021484</td>\n",
       "      <td>0.001465</td>\n",
       "      <td>5.078551</td>\n",
       "      <td>0.048981</td>\n",
       "      <td>Hip-Hop</td>\n",
       "    </tr>\n",
       "  </tbody>\n",
       "</table>\n",
       "<p>5 rows × 519 columns</p>\n",
       "</div>"
      ],
      "text/plain": [
       "                        (chroma_cens, kurtosis, 01)  \\\n",
       "tid                                                   \n",
       "07HRbKdTp5JSZoIlyK0JDn                     0.471995   \n",
       "0M1IY0lf1BCs5pi4uR7YGM                    -0.838925   \n",
       "0NfYAsKygCYwPA2BgTZ1qg                    -0.589931   \n",
       "0PrmzdPOWxOw8rfUEZAVry                     1.754033   \n",
       "0XrnC0Kb0q7if8eaOXE0TI                     0.554935   \n",
       "\n",
       "                        (chroma_cens, kurtosis, 02)  \\\n",
       "tid                                                   \n",
       "07HRbKdTp5JSZoIlyK0JDn                    -0.335948   \n",
       "0M1IY0lf1BCs5pi4uR7YGM                     0.265956   \n",
       "0NfYAsKygCYwPA2BgTZ1qg                     1.137621   \n",
       "0PrmzdPOWxOw8rfUEZAVry                     0.468994   \n",
       "0XrnC0Kb0q7if8eaOXE0TI                     1.498734   \n",
       "\n",
       "                        (chroma_cens, kurtosis, 03)  \\\n",
       "tid                                                   \n",
       "07HRbKdTp5JSZoIlyK0JDn                     0.261353   \n",
       "0M1IY0lf1BCs5pi4uR7YGM                     0.078155   \n",
       "0NfYAsKygCYwPA2BgTZ1qg                    -0.754070   \n",
       "0PrmzdPOWxOw8rfUEZAVry                    -0.587604   \n",
       "0XrnC0Kb0q7if8eaOXE0TI                    -0.904782   \n",
       "\n",
       "                        (chroma_cens, kurtosis, 04)  \\\n",
       "tid                                                   \n",
       "07HRbKdTp5JSZoIlyK0JDn                     0.407784   \n",
       "0M1IY0lf1BCs5pi4uR7YGM                    -0.730444   \n",
       "0NfYAsKygCYwPA2BgTZ1qg                     0.056590   \n",
       "0PrmzdPOWxOw8rfUEZAVry                     0.505441   \n",
       "0XrnC0Kb0q7if8eaOXE0TI                     1.444452   \n",
       "\n",
       "                        (chroma_cens, kurtosis, 05)  \\\n",
       "tid                                                   \n",
       "07HRbKdTp5JSZoIlyK0JDn                    -0.097552   \n",
       "0M1IY0lf1BCs5pi4uR7YGM                    -0.956515   \n",
       "0NfYAsKygCYwPA2BgTZ1qg                    -0.125952   \n",
       "0PrmzdPOWxOw8rfUEZAVry                     2.614183   \n",
       "0XrnC0Kb0q7if8eaOXE0TI                     0.033368   \n",
       "\n",
       "                        (chroma_cens, kurtosis, 06)  \\\n",
       "tid                                                   \n",
       "07HRbKdTp5JSZoIlyK0JDn                     2.522320   \n",
       "0M1IY0lf1BCs5pi4uR7YGM                     2.115242   \n",
       "0NfYAsKygCYwPA2BgTZ1qg                     0.078511   \n",
       "0PrmzdPOWxOw8rfUEZAVry                     1.356851   \n",
       "0XrnC0Kb0q7if8eaOXE0TI                     5.024167   \n",
       "\n",
       "                        (chroma_cens, kurtosis, 07)  \\\n",
       "tid                                                   \n",
       "07HRbKdTp5JSZoIlyK0JDn                     5.732785   \n",
       "0M1IY0lf1BCs5pi4uR7YGM                    -0.952679   \n",
       "0NfYAsKygCYwPA2BgTZ1qg                     1.394154   \n",
       "0PrmzdPOWxOw8rfUEZAVry                     0.601550   \n",
       "0XrnC0Kb0q7if8eaOXE0TI                     0.524895   \n",
       "\n",
       "                        (chroma_cens, kurtosis, 08)  \\\n",
       "tid                                                   \n",
       "07HRbKdTp5JSZoIlyK0JDn                    10.675367   \n",
       "0M1IY0lf1BCs5pi4uR7YGM                    -0.595896   \n",
       "0NfYAsKygCYwPA2BgTZ1qg                     0.157336   \n",
       "0PrmzdPOWxOw8rfUEZAVry                     3.036253   \n",
       "0XrnC0Kb0q7if8eaOXE0TI                    -0.792487   \n",
       "\n",
       "                        (chroma_cens, kurtosis, 09)  \\\n",
       "tid                                                   \n",
       "07HRbKdTp5JSZoIlyK0JDn                    -0.643247   \n",
       "0M1IY0lf1BCs5pi4uR7YGM                     8.532173   \n",
       "0NfYAsKygCYwPA2BgTZ1qg                     0.291657   \n",
       "0PrmzdPOWxOw8rfUEZAVry                     1.467916   \n",
       "0XrnC0Kb0q7if8eaOXE0TI                    11.080832   \n",
       "\n",
       "                        (chroma_cens, kurtosis, 10)  ...  (tonnetz, std, 05)  \\\n",
       "tid                                                  ...                       \n",
       "07HRbKdTp5JSZoIlyK0JDn                    -1.238249  ...            0.061139   \n",
       "0M1IY0lf1BCs5pi4uR7YGM                     3.501404  ...            0.081395   \n",
       "0NfYAsKygCYwPA2BgTZ1qg                    -0.865689  ...            0.039767   \n",
       "0PrmzdPOWxOw8rfUEZAVry                    -0.308902  ...            0.049753   \n",
       "0XrnC0Kb0q7if8eaOXE0TI                     5.476508  ...            0.112879   \n",
       "\n",
       "                        (tonnetz, std, 06)  (zcr, kurtosis, 01)  \\\n",
       "tid                                                               \n",
       "07HRbKdTp5JSZoIlyK0JDn            0.056424             3.339593   \n",
       "0M1IY0lf1BCs5pi4uR7YGM            0.114083            11.457108   \n",
       "0NfYAsKygCYwPA2BgTZ1qg            0.041169             6.306376   \n",
       "0PrmzdPOWxOw8rfUEZAVry            0.040972            11.941812   \n",
       "0XrnC0Kb0q7if8eaOXE0TI            0.081274            36.744335   \n",
       "\n",
       "                        (zcr, max, 01)  (zcr, mean, 01)  (zcr, median, 01)  \\\n",
       "tid                                                                          \n",
       "07HRbKdTp5JSZoIlyK0JDn        0.395020         0.078367           0.059082   \n",
       "0M1IY0lf1BCs5pi4uR7YGM        0.405762         0.057853           0.047363   \n",
       "0NfYAsKygCYwPA2BgTZ1qg        0.445312         0.079602           0.067383   \n",
       "0PrmzdPOWxOw8rfUEZAVry        0.278320         0.029588           0.019043   \n",
       "0XrnC0Kb0q7if8eaOXE0TI        0.513184         0.034530           0.021484   \n",
       "\n",
       "                        (zcr, min, 01)  (zcr, skew, 01)  (zcr, std, 01)  \\\n",
       "tid                                                                       \n",
       "07HRbKdTp5JSZoIlyK0JDn        0.001465         1.761657        0.070476   \n",
       "0M1IY0lf1BCs5pi4uR7YGM        0.001953         2.811845        0.049764   \n",
       "0NfYAsKygCYwPA2BgTZ1qg        0.003418         2.144879        0.058249   \n",
       "0PrmzdPOWxOw8rfUEZAVry        0.001953         3.104338        0.035471   \n",
       "0XrnC0Kb0q7if8eaOXE0TI        0.001465         5.078551        0.048981   \n",
       "\n",
       "                        main_genre  \n",
       "tid                                 \n",
       "07HRbKdTp5JSZoIlyK0JDn  Electronic  \n",
       "0M1IY0lf1BCs5pi4uR7YGM     Hip-Hop  \n",
       "0NfYAsKygCYwPA2BgTZ1qg     Hip-Hop  \n",
       "0PrmzdPOWxOw8rfUEZAVry     Hip-Hop  \n",
       "0XrnC0Kb0q7if8eaOXE0TI     Hip-Hop  \n",
       "\n",
       "[5 rows x 519 columns]"
      ]
     },
     "execution_count": 64,
     "metadata": {},
     "output_type": "execute_result"
    }
   ],
   "source": [
    "data = X_a.merge(y_a, how = 'inner', on = 'tid')\n",
    "data.head(5)"
   ]
  },
  {
   "cell_type": "code",
   "execution_count": 65,
   "metadata": {
    "ExecuteTime": {
     "end_time": "2020-12-06T17:38:04.917824Z",
     "start_time": "2020-12-06T17:38:04.874165Z"
    }
   },
   "outputs": [],
   "source": [
    "X_test = data.drop(columns ='main_genre')"
   ]
  },
  {
   "cell_type": "code",
   "execution_count": 66,
   "metadata": {
    "ExecuteTime": {
     "end_time": "2020-12-06T17:38:05.540644Z",
     "start_time": "2020-12-06T17:38:05.509406Z"
    }
   },
   "outputs": [],
   "source": [
    "y_test = data.main_genre"
   ]
  },
  {
   "cell_type": "markdown",
   "metadata": {},
   "source": [
    "# model Training"
   ]
  },
  {
   "cell_type": "code",
   "execution_count": 69,
   "metadata": {
    "ExecuteTime": {
     "end_time": "2020-12-06T17:38:40.245938Z",
     "start_time": "2020-12-06T17:38:40.215041Z"
    }
   },
   "outputs": [],
   "source": [
    "classifier = Trainer(X_train, y_train)"
   ]
  },
  {
   "cell_type": "code",
   "execution_count": 70,
   "metadata": {
    "ExecuteTime": {
     "end_time": "2020-12-06T17:42:32.825823Z",
     "start_time": "2020-12-06T17:38:40.688513Z"
    }
   },
   "outputs": [
    {
     "name": "stderr",
     "output_type": "stream",
     "text": [
      "/Users/alexisfayolle/.pyenv/versions/3.8.6/envs/spotify-502/lib/python3.8/site-packages/sklearn/svm/_base.py:976: ConvergenceWarning: Liblinear failed to converge, increase the number of iterations.\n",
      "  warnings.warn(\"Liblinear failed to converge, increase \"\n"
     ]
    }
   ],
   "source": [
    "classifier.run()"
   ]
  },
  {
   "cell_type": "markdown",
   "metadata": {},
   "source": [
    "## Achot set"
   ]
  },
  {
   "cell_type": "code",
   "execution_count": 71,
   "metadata": {
    "ExecuteTime": {
     "end_time": "2020-12-06T17:42:35.670896Z",
     "start_time": "2020-12-06T17:42:33.185071Z"
    }
   },
   "outputs": [
    {
     "data": {
      "text/plain": [
       "0.2629310344827586"
      ]
     },
     "execution_count": 71,
     "metadata": {},
     "output_type": "execute_result"
    }
   ],
   "source": [
    "classifier.evaluate(X_test, y_test)"
   ]
  },
  {
   "cell_type": "code",
   "execution_count": 72,
   "metadata": {
    "ExecuteTime": {
     "end_time": "2020-12-06T17:42:38.523266Z",
     "start_time": "2020-12-06T17:42:36.026554Z"
    }
   },
   "outputs": [
    {
     "name": "stdout",
     "output_type": "stream",
     "text": [
      "               precision    recall  f1-score   support\n",
      "\n",
      "   Electronic       0.26      0.98      0.41       123\n",
      " Experimental       0.00      0.00      0.00         1\n",
      "         Folk       0.00      0.00      0.00         1\n",
      "      Hip-Hop       0.00      0.00      0.00       288\n",
      "International       0.00      0.00      0.00         1\n",
      "          Pop       0.00      0.00      0.00        37\n",
      "         Rock       0.50      0.08      0.13        13\n",
      "\n",
      "     accuracy                           0.26       464\n",
      "    macro avg       0.11      0.15      0.08       464\n",
      " weighted avg       0.08      0.26      0.11       464\n",
      "\n"
     ]
    },
    {
     "name": "stderr",
     "output_type": "stream",
     "text": [
      "/Users/alexisfayolle/.pyenv/versions/3.8.6/envs/spotify-502/lib/python3.8/site-packages/sklearn/metrics/_classification.py:1221: UndefinedMetricWarning: Precision and F-score are ill-defined and being set to 0.0 in labels with no predicted samples. Use `zero_division` parameter to control this behavior.\n",
      "  _warn_prf(average, modifier, msg_start, len(result))\n"
     ]
    }
   ],
   "source": [
    "classifier.class_report(X_test, y_test)"
   ]
  },
  {
   "cell_type": "code",
   "execution_count": 101,
   "metadata": {
    "ExecuteTime": {
     "end_time": "2020-12-07T10:11:17.827165Z",
     "start_time": "2020-12-07T10:11:13.805826Z"
    }
   },
   "outputs": [
    {
     "data": {
      "text/html": [
       "<div>\n",
       "<style scoped>\n",
       "    .dataframe tbody tr th:only-of-type {\n",
       "        vertical-align: middle;\n",
       "    }\n",
       "\n",
       "    .dataframe tbody tr th {\n",
       "        vertical-align: top;\n",
       "    }\n",
       "\n",
       "    .dataframe thead th {\n",
       "        text-align: right;\n",
       "    }\n",
       "</style>\n",
       "<table border=\"1\" class=\"dataframe\">\n",
       "  <thead>\n",
       "    <tr style=\"text-align: right;\">\n",
       "      <th></th>\n",
       "      <th>pred:Hip-Hop</th>\n",
       "      <th>pred:Pop</th>\n",
       "      <th>pred:Rock</th>\n",
       "      <th>pred:Folk</th>\n",
       "      <th>pred:Electronic</th>\n",
       "      <th>pred:Experimental</th>\n",
       "      <th>pred:International</th>\n",
       "      <th>pred:Instrumental</th>\n",
       "    </tr>\n",
       "  </thead>\n",
       "  <tbody>\n",
       "    <tr>\n",
       "      <th>true:Hip-Hop</th>\n",
       "      <td>0</td>\n",
       "      <td>0</td>\n",
       "      <td>0</td>\n",
       "      <td>0</td>\n",
       "      <td>288</td>\n",
       "      <td>0</td>\n",
       "      <td>0</td>\n",
       "      <td>0</td>\n",
       "    </tr>\n",
       "    <tr>\n",
       "      <th>true:Pop</th>\n",
       "      <td>0</td>\n",
       "      <td>0</td>\n",
       "      <td>0</td>\n",
       "      <td>0</td>\n",
       "      <td>37</td>\n",
       "      <td>0</td>\n",
       "      <td>0</td>\n",
       "      <td>0</td>\n",
       "    </tr>\n",
       "    <tr>\n",
       "      <th>true:Rock</th>\n",
       "      <td>0</td>\n",
       "      <td>0</td>\n",
       "      <td>1</td>\n",
       "      <td>0</td>\n",
       "      <td>12</td>\n",
       "      <td>0</td>\n",
       "      <td>0</td>\n",
       "      <td>0</td>\n",
       "    </tr>\n",
       "    <tr>\n",
       "      <th>true:Folk</th>\n",
       "      <td>0</td>\n",
       "      <td>0</td>\n",
       "      <td>0</td>\n",
       "      <td>0</td>\n",
       "      <td>1</td>\n",
       "      <td>0</td>\n",
       "      <td>0</td>\n",
       "      <td>0</td>\n",
       "    </tr>\n",
       "    <tr>\n",
       "      <th>true:Electronic</th>\n",
       "      <td>0</td>\n",
       "      <td>0</td>\n",
       "      <td>1</td>\n",
       "      <td>0</td>\n",
       "      <td>121</td>\n",
       "      <td>1</td>\n",
       "      <td>0</td>\n",
       "      <td>0</td>\n",
       "    </tr>\n",
       "    <tr>\n",
       "      <th>true:Experimental</th>\n",
       "      <td>0</td>\n",
       "      <td>0</td>\n",
       "      <td>0</td>\n",
       "      <td>0</td>\n",
       "      <td>1</td>\n",
       "      <td>0</td>\n",
       "      <td>0</td>\n",
       "      <td>0</td>\n",
       "    </tr>\n",
       "    <tr>\n",
       "      <th>true:International</th>\n",
       "      <td>0</td>\n",
       "      <td>0</td>\n",
       "      <td>0</td>\n",
       "      <td>0</td>\n",
       "      <td>1</td>\n",
       "      <td>0</td>\n",
       "      <td>0</td>\n",
       "      <td>0</td>\n",
       "    </tr>\n",
       "    <tr>\n",
       "      <th>true:Instrumental</th>\n",
       "      <td>0</td>\n",
       "      <td>0</td>\n",
       "      <td>0</td>\n",
       "      <td>0</td>\n",
       "      <td>0</td>\n",
       "      <td>0</td>\n",
       "      <td>0</td>\n",
       "      <td>0</td>\n",
       "    </tr>\n",
       "  </tbody>\n",
       "</table>\n",
       "</div>"
      ],
      "text/plain": [
       "                    pred:Hip-Hop  pred:Pop  pred:Rock  pred:Folk  \\\n",
       "true:Hip-Hop                   0         0          0          0   \n",
       "true:Pop                       0         0          0          0   \n",
       "true:Rock                      0         0          1          0   \n",
       "true:Folk                      0         0          0          0   \n",
       "true:Electronic                0         0          1          0   \n",
       "true:Experimental              0         0          0          0   \n",
       "true:International             0         0          0          0   \n",
       "true:Instrumental              0         0          0          0   \n",
       "\n",
       "                    pred:Electronic  pred:Experimental  pred:International  \\\n",
       "true:Hip-Hop                    288                  0                   0   \n",
       "true:Pop                         37                  0                   0   \n",
       "true:Rock                        12                  0                   0   \n",
       "true:Folk                         1                  0                   0   \n",
       "true:Electronic                 121                  1                   0   \n",
       "true:Experimental                 1                  0                   0   \n",
       "true:International                1                  0                   0   \n",
       "true:Instrumental                 0                  0                   0   \n",
       "\n",
       "                    pred:Instrumental  \n",
       "true:Hip-Hop                        0  \n",
       "true:Pop                            0  \n",
       "true:Rock                           0  \n",
       "true:Folk                           0  \n",
       "true:Electronic                     0  \n",
       "true:Experimental                   0  \n",
       "true:International                  0  \n",
       "true:Instrumental                   0  "
      ]
     },
     "execution_count": 101,
     "metadata": {},
     "output_type": "execute_result"
    }
   ],
   "source": [
    "classifier.conf_matrix(X_test, y_test)"
   ]
  },
  {
   "cell_type": "code",
   "execution_count": null,
   "metadata": {},
   "outputs": [],
   "source": []
  },
  {
   "cell_type": "markdown",
   "metadata": {},
   "source": [
    "## Val set"
   ]
  },
  {
   "cell_type": "code",
   "execution_count": 83,
   "metadata": {
    "ExecuteTime": {
     "end_time": "2020-12-07T09:38:39.003203Z",
     "start_time": "2020-12-07T09:38:24.906443Z"
    }
   },
   "outputs": [],
   "source": [
    "y_pred = classifier.pipeline.predict(X_val)"
   ]
  },
  {
   "cell_type": "code",
   "execution_count": 76,
   "metadata": {
    "ExecuteTime": {
     "end_time": "2020-12-06T17:48:51.561246Z",
     "start_time": "2020-12-06T17:48:34.138472Z"
    }
   },
   "outputs": [
    {
     "data": {
      "text/plain": [
       "0.6623093681917211"
      ]
     },
     "execution_count": 76,
     "metadata": {},
     "output_type": "execute_result"
    }
   ],
   "source": [
    "classifier.evaluate(X_val, y_val)"
   ]
  },
  {
   "cell_type": "code",
   "execution_count": 78,
   "metadata": {
    "ExecuteTime": {
     "end_time": "2020-12-06T17:49:29.596436Z",
     "start_time": "2020-12-06T17:49:14.655476Z"
    }
   },
   "outputs": [
    {
     "name": "stdout",
     "output_type": "stream",
     "text": [
      "               precision    recall  f1-score   support\n",
      "\n",
      "   Electronic       0.59      0.90      0.71       632\n",
      " Experimental       0.44      0.30      0.36       225\n",
      "         Folk       0.70      0.67      0.69       152\n",
      "      Hip-Hop       0.77      0.53      0.63       220\n",
      " Instrumental       0.19      0.05      0.08       131\n",
      "International       0.83      0.38      0.52       102\n",
      "          Pop       0.15      0.02      0.04       122\n",
      "         Rock       0.79      0.86      0.83       711\n",
      "\n",
      "     accuracy                           0.66      2295\n",
      "    macro avg       0.56      0.47      0.48      2295\n",
      " weighted avg       0.63      0.66      0.62      2295\n",
      "\n"
     ]
    }
   ],
   "source": [
    "classifier.class_report(X_val, y_val)"
   ]
  },
  {
   "cell_type": "code",
   "execution_count": 92,
   "metadata": {
    "ExecuteTime": {
     "end_time": "2020-12-07T09:59:10.342088Z",
     "start_time": "2020-12-07T09:59:10.294597Z"
    }
   },
   "outputs": [],
   "source": [
    "from sklearn.metrics import confusion_matrix\n",
    "cat = y_val.astype('str').unique().tolist()\n",
    "\n",
    "cf_mat = confusion_matrix(y_val, y_pred, labels = cat)\n",
    "\n",
    "\n",
    "cmtx = pd.DataFrame(\n",
    "    cf_mat, \n",
    "    index=['true:{:}'.format(x) for x in cat], \n",
    "    columns=['pred:{:}'.format(x) for x in cat])"
   ]
  },
  {
   "cell_type": "code",
   "execution_count": 93,
   "metadata": {
    "ExecuteTime": {
     "end_time": "2020-12-07T09:59:21.874158Z",
     "start_time": "2020-12-07T09:59:21.804420Z"
    }
   },
   "outputs": [
    {
     "data": {
      "text/html": [
       "<div>\n",
       "<style scoped>\n",
       "    .dataframe tbody tr th:only-of-type {\n",
       "        vertical-align: middle;\n",
       "    }\n",
       "\n",
       "    .dataframe tbody tr th {\n",
       "        vertical-align: top;\n",
       "    }\n",
       "\n",
       "    .dataframe thead th {\n",
       "        text-align: right;\n",
       "    }\n",
       "</style>\n",
       "<table border=\"1\" class=\"dataframe\">\n",
       "  <thead>\n",
       "    <tr style=\"text-align: right;\">\n",
       "      <th></th>\n",
       "      <th>pred:Experimental</th>\n",
       "      <th>pred:Rock</th>\n",
       "      <th>pred:Hip-Hop</th>\n",
       "      <th>pred:Folk</th>\n",
       "      <th>pred:Electronic</th>\n",
       "      <th>pred:Pop</th>\n",
       "      <th>pred:International</th>\n",
       "      <th>pred:Instrumental</th>\n",
       "    </tr>\n",
       "  </thead>\n",
       "  <tbody>\n",
       "    <tr>\n",
       "      <th>true:Experimental</th>\n",
       "      <td>68</td>\n",
       "      <td>31</td>\n",
       "      <td>3</td>\n",
       "      <td>8</td>\n",
       "      <td>102</td>\n",
       "      <td>0</td>\n",
       "      <td>0</td>\n",
       "      <td>13</td>\n",
       "    </tr>\n",
       "    <tr>\n",
       "      <th>true:Rock</th>\n",
       "      <td>10</td>\n",
       "      <td>615</td>\n",
       "      <td>3</td>\n",
       "      <td>12</td>\n",
       "      <td>59</td>\n",
       "      <td>7</td>\n",
       "      <td>2</td>\n",
       "      <td>3</td>\n",
       "    </tr>\n",
       "    <tr>\n",
       "      <th>true:Hip-Hop</th>\n",
       "      <td>3</td>\n",
       "      <td>9</td>\n",
       "      <td>117</td>\n",
       "      <td>2</td>\n",
       "      <td>80</td>\n",
       "      <td>6</td>\n",
       "      <td>3</td>\n",
       "      <td>0</td>\n",
       "    </tr>\n",
       "    <tr>\n",
       "      <th>true:Folk</th>\n",
       "      <td>7</td>\n",
       "      <td>22</td>\n",
       "      <td>1</td>\n",
       "      <td>102</td>\n",
       "      <td>16</td>\n",
       "      <td>2</td>\n",
       "      <td>0</td>\n",
       "      <td>2</td>\n",
       "    </tr>\n",
       "    <tr>\n",
       "      <th>true:Electronic</th>\n",
       "      <td>20</td>\n",
       "      <td>22</td>\n",
       "      <td>10</td>\n",
       "      <td>0</td>\n",
       "      <td>569</td>\n",
       "      <td>1</td>\n",
       "      <td>1</td>\n",
       "      <td>9</td>\n",
       "    </tr>\n",
       "    <tr>\n",
       "      <th>true:Pop</th>\n",
       "      <td>16</td>\n",
       "      <td>43</td>\n",
       "      <td>12</td>\n",
       "      <td>7</td>\n",
       "      <td>37</td>\n",
       "      <td>3</td>\n",
       "      <td>2</td>\n",
       "      <td>2</td>\n",
       "    </tr>\n",
       "    <tr>\n",
       "      <th>true:International</th>\n",
       "      <td>6</td>\n",
       "      <td>7</td>\n",
       "      <td>3</td>\n",
       "      <td>8</td>\n",
       "      <td>39</td>\n",
       "      <td>0</td>\n",
       "      <td>39</td>\n",
       "      <td>0</td>\n",
       "    </tr>\n",
       "    <tr>\n",
       "      <th>true:Instrumental</th>\n",
       "      <td>23</td>\n",
       "      <td>25</td>\n",
       "      <td>2</td>\n",
       "      <td>6</td>\n",
       "      <td>67</td>\n",
       "      <td>1</td>\n",
       "      <td>0</td>\n",
       "      <td>7</td>\n",
       "    </tr>\n",
       "  </tbody>\n",
       "</table>\n",
       "</div>"
      ],
      "text/plain": [
       "                    pred:Experimental  pred:Rock  pred:Hip-Hop  pred:Folk  \\\n",
       "true:Experimental                  68         31             3          8   \n",
       "true:Rock                          10        615             3         12   \n",
       "true:Hip-Hop                        3          9           117          2   \n",
       "true:Folk                           7         22             1        102   \n",
       "true:Electronic                    20         22            10          0   \n",
       "true:Pop                           16         43            12          7   \n",
       "true:International                  6          7             3          8   \n",
       "true:Instrumental                  23         25             2          6   \n",
       "\n",
       "                    pred:Electronic  pred:Pop  pred:International  \\\n",
       "true:Experimental               102         0                   0   \n",
       "true:Rock                        59         7                   2   \n",
       "true:Hip-Hop                     80         6                   3   \n",
       "true:Folk                        16         2                   0   \n",
       "true:Electronic                 569         1                   1   \n",
       "true:Pop                         37         3                   2   \n",
       "true:International               39         0                  39   \n",
       "true:Instrumental                67         1                   0   \n",
       "\n",
       "                    pred:Instrumental  \n",
       "true:Experimental                  13  \n",
       "true:Rock                           3  \n",
       "true:Hip-Hop                        0  \n",
       "true:Folk                           2  \n",
       "true:Electronic                     9  \n",
       "true:Pop                            2  \n",
       "true:International                  0  \n",
       "true:Instrumental                   7  "
      ]
     },
     "execution_count": 93,
     "metadata": {},
     "output_type": "execute_result"
    }
   ],
   "source": [
    "cmtx"
   ]
  },
  {
   "cell_type": "code",
   "execution_count": null,
   "metadata": {},
   "outputs": [],
   "source": []
  },
  {
   "cell_type": "code",
   "execution_count": 99,
   "metadata": {
    "ExecuteTime": {
     "end_time": "2020-12-07T10:06:01.114572Z",
     "start_time": "2020-12-07T10:06:01.060247Z"
    }
   },
   "outputs": [
    {
     "data": {
      "text/plain": [
       "array([list(['Experimental', 'Rock', 'Hip-Hop', 'Folk', 'Electronic', 'Pop', 'International', 'Instrumental']),\n",
       "       list(['Rap'])], dtype=object)"
      ]
     },
     "execution_count": 99,
     "metadata": {},
     "output_type": "execute_result"
    }
   ],
   "source": []
  },
  {
   "cell_type": "code",
   "execution_count": null,
   "metadata": {},
   "outputs": [],
   "source": []
  },
  {
   "cell_type": "code",
   "execution_count": null,
   "metadata": {},
   "outputs": [],
   "source": []
  },
  {
   "cell_type": "code",
   "execution_count": null,
   "metadata": {},
   "outputs": [],
   "source": []
  },
  {
   "cell_type": "code",
   "execution_count": null,
   "metadata": {},
   "outputs": [],
   "source": []
  },
  {
   "cell_type": "code",
   "execution_count": null,
   "metadata": {},
   "outputs": [],
   "source": []
  },
  {
   "cell_type": "code",
   "execution_count": null,
   "metadata": {},
   "outputs": [],
   "source": []
  },
  {
   "cell_type": "code",
   "execution_count": null,
   "metadata": {},
   "outputs": [],
   "source": []
  },
  {
   "cell_type": "code",
   "execution_count": null,
   "metadata": {},
   "outputs": [],
   "source": []
  },
  {
   "cell_type": "code",
   "execution_count": null,
   "metadata": {},
   "outputs": [],
   "source": []
  },
  {
   "cell_type": "code",
   "execution_count": null,
   "metadata": {},
   "outputs": [],
   "source": []
  },
  {
   "cell_type": "code",
   "execution_count": null,
   "metadata": {},
   "outputs": [],
   "source": []
  },
  {
   "cell_type": "code",
   "execution_count": null,
   "metadata": {},
   "outputs": [],
   "source": []
  },
  {
   "cell_type": "code",
   "execution_count": null,
   "metadata": {},
   "outputs": [],
   "source": []
  },
  {
   "cell_type": "code",
   "execution_count": null,
   "metadata": {},
   "outputs": [],
   "source": []
  },
  {
   "cell_type": "code",
   "execution_count": null,
   "metadata": {},
   "outputs": [],
   "source": []
  },
  {
   "cell_type": "code",
   "execution_count": null,
   "metadata": {},
   "outputs": [],
   "source": []
  },
  {
   "cell_type": "code",
   "execution_count": null,
   "metadata": {},
   "outputs": [],
   "source": []
  },
  {
   "cell_type": "code",
   "execution_count": null,
   "metadata": {},
   "outputs": [],
   "source": []
  },
  {
   "cell_type": "code",
   "execution_count": null,
   "metadata": {},
   "outputs": [],
   "source": []
  },
  {
   "cell_type": "code",
   "execution_count": null,
   "metadata": {},
   "outputs": [],
   "source": []
  },
  {
   "cell_type": "code",
   "execution_count": null,
   "metadata": {},
   "outputs": [],
   "source": []
  },
  {
   "cell_type": "code",
   "execution_count": null,
   "metadata": {},
   "outputs": [],
   "source": []
  },
  {
   "cell_type": "code",
   "execution_count": null,
   "metadata": {},
   "outputs": [],
   "source": []
  },
  {
   "cell_type": "code",
   "execution_count": null,
   "metadata": {},
   "outputs": [],
   "source": []
  }
 ],
 "metadata": {
  "kernelspec": {
   "display_name": "Python 3",
   "language": "python",
   "name": "python3"
  },
  "language_info": {
   "codemirror_mode": {
    "name": "ipython",
    "version": 3
   },
   "file_extension": ".py",
   "mimetype": "text/x-python",
   "name": "python",
   "nbconvert_exporter": "python",
   "pygments_lexer": "ipython3",
   "version": "3.8.6"
  },
  "toc": {
   "base_numbering": 1,
   "nav_menu": {},
   "number_sections": true,
   "sideBar": true,
   "skip_h1_title": false,
   "title_cell": "Table of Contents",
   "title_sidebar": "Contents",
   "toc_cell": false,
   "toc_position": {},
   "toc_section_display": true,
   "toc_window_display": true
  },
  "varInspector": {
   "cols": {
    "lenName": 16,
    "lenType": 16,
    "lenVar": 40
   },
   "kernels_config": {
    "python": {
     "delete_cmd_postfix": "",
     "delete_cmd_prefix": "del ",
     "library": "var_list.py",
     "varRefreshCmd": "print(var_dic_list())"
    },
    "r": {
     "delete_cmd_postfix": ") ",
     "delete_cmd_prefix": "rm(",
     "library": "var_list.r",
     "varRefreshCmd": "cat(var_dic_list()) "
    }
   },
   "types_to_exclude": [
    "module",
    "function",
    "builtin_function_or_method",
    "instance",
    "_Feature"
   ],
   "window_display": false
  }
 },
 "nbformat": 4,
 "nbformat_minor": 4
}
