{
 "cells": [
  {
   "cell_type": "markdown",
   "metadata": {},
   "source": [
    "# Loading data"
   ]
  },
  {
   "cell_type": "code",
   "execution_count": 1,
   "metadata": {},
   "outputs": [],
   "source": [
    "%load_ext autoreload\n",
    "%autoreload 2"
   ]
  },
  {
   "cell_type": "code",
   "execution_count": 2,
   "metadata": {},
   "outputs": [],
   "source": [
    "import pandas as pd\n",
    "import numpy as np\n",
    "import matplotlib.pyplot as plt\n",
    "from sklearn.preprocessing import MinMaxScaler, StandardScaler, RobustScaler\n",
    "from sklearn.impute import SimpleImputer"
   ]
  },
  {
   "cell_type": "code",
   "execution_count": 3,
   "metadata": {},
   "outputs": [],
   "source": [
    "from Project_Spotify_502 import utils"
   ]
  },
  {
   "cell_type": "code",
   "execution_count": 4,
   "metadata": {},
   "outputs": [],
   "source": [
    "# Load metadata and features.\n",
    "tracks = utils.load('../raw_data/fma_metadata/tracks.csv')\n",
    "genres = utils.load('../raw_data/fma_metadata/genres.csv')\n",
    "features = utils.load('../raw_data/fma_metadata/features.csv')\n",
    "echonest = utils.load('../raw_data/fma_metadata/echonest.csv')"
   ]
  },
  {
   "cell_type": "code",
   "execution_count": 47,
   "metadata": {
    "scrolled": true
   },
   "outputs": [],
   "source": [
    "main_genres = np.unique(tracks.track.genre_top[tracks['set','subset'] == \"small\"])"
   ]
  },
  {
   "cell_type": "code",
   "execution_count": 48,
   "metadata": {},
   "outputs": [
    {
     "data": {
      "text/plain": [
       "array(['Electronic', 'Experimental', 'Folk', 'Hip-Hop', 'Instrumental',\n",
       "       'International', 'Pop', 'Rock'], dtype=object)"
      ]
     },
     "execution_count": 48,
     "metadata": {},
     "output_type": "execute_result"
    }
   ],
   "source": [
    "main_genres"
   ]
  },
  {
   "cell_type": "code",
   "execution_count": 45,
   "metadata": {},
   "outputs": [],
   "source": [
    "def sous_genres(genre):\n",
    "    our_genre_id = genres[genres.title == genre].index.to_list()[0]\n",
    "    return genres[genres.parent == our_genre_id]"
   ]
  },
  {
   "cell_type": "code",
   "execution_count": 46,
   "metadata": {
    "collapsed": true
   },
   "outputs": [
    {
     "data": {
      "text/html": [
       "<div>\n",
       "<style scoped>\n",
       "    .dataframe tbody tr th:only-of-type {\n",
       "        vertical-align: middle;\n",
       "    }\n",
       "\n",
       "    .dataframe tbody tr th {\n",
       "        vertical-align: top;\n",
       "    }\n",
       "\n",
       "    .dataframe thead th {\n",
       "        text-align: right;\n",
       "    }\n",
       "</style>\n",
       "<table border=\"1\" class=\"dataframe\">\n",
       "  <thead>\n",
       "    <tr style=\"text-align: right;\">\n",
       "      <th></th>\n",
       "      <th>#tracks</th>\n",
       "      <th>parent</th>\n",
       "      <th>title</th>\n",
       "      <th>top_level</th>\n",
       "    </tr>\n",
       "    <tr>\n",
       "      <th>genre_id</th>\n",
       "      <th></th>\n",
       "      <th></th>\n",
       "      <th></th>\n",
       "      <th></th>\n",
       "    </tr>\n",
       "  </thead>\n",
       "  <tbody>\n",
       "    <tr>\n",
       "      <th>25</th>\n",
       "      <td>9261</td>\n",
       "      <td>12</td>\n",
       "      <td>Punk</td>\n",
       "      <td>12</td>\n",
       "    </tr>\n",
       "    <tr>\n",
       "      <th>26</th>\n",
       "      <td>1952</td>\n",
       "      <td>12</td>\n",
       "      <td>Post-Rock</td>\n",
       "      <td>12</td>\n",
       "    </tr>\n",
       "    <tr>\n",
       "      <th>27</th>\n",
       "      <td>6041</td>\n",
       "      <td>12</td>\n",
       "      <td>Lo-Fi</td>\n",
       "      <td>12</td>\n",
       "    </tr>\n",
       "    <tr>\n",
       "      <th>31</th>\n",
       "      <td>1498</td>\n",
       "      <td>12</td>\n",
       "      <td>Metal</td>\n",
       "      <td>12</td>\n",
       "    </tr>\n",
       "    <tr>\n",
       "      <th>36</th>\n",
       "      <td>688</td>\n",
       "      <td>12</td>\n",
       "      <td>Krautrock</td>\n",
       "      <td>12</td>\n",
       "    </tr>\n",
       "    <tr>\n",
       "      <th>45</th>\n",
       "      <td>2469</td>\n",
       "      <td>12</td>\n",
       "      <td>Loud-Rock</td>\n",
       "      <td>12</td>\n",
       "    </tr>\n",
       "    <tr>\n",
       "      <th>58</th>\n",
       "      <td>2502</td>\n",
       "      <td>12</td>\n",
       "      <td>Psych-Rock</td>\n",
       "      <td>12</td>\n",
       "    </tr>\n",
       "    <tr>\n",
       "      <th>66</th>\n",
       "      <td>5432</td>\n",
       "      <td>12</td>\n",
       "      <td>Indie-Rock</td>\n",
       "      <td>12</td>\n",
       "    </tr>\n",
       "    <tr>\n",
       "      <th>70</th>\n",
       "      <td>2230</td>\n",
       "      <td>12</td>\n",
       "      <td>Industrial</td>\n",
       "      <td>12</td>\n",
       "    </tr>\n",
       "    <tr>\n",
       "      <th>85</th>\n",
       "      <td>3548</td>\n",
       "      <td>12</td>\n",
       "      <td>Garage</td>\n",
       "      <td>12</td>\n",
       "    </tr>\n",
       "    <tr>\n",
       "      <th>88</th>\n",
       "      <td>517</td>\n",
       "      <td>12</td>\n",
       "      <td>New Wave</td>\n",
       "      <td>12</td>\n",
       "    </tr>\n",
       "    <tr>\n",
       "      <th>98</th>\n",
       "      <td>795</td>\n",
       "      <td>12</td>\n",
       "      <td>Progressive</td>\n",
       "      <td>12</td>\n",
       "    </tr>\n",
       "    <tr>\n",
       "      <th>314</th>\n",
       "      <td>482</td>\n",
       "      <td>12</td>\n",
       "      <td>Goth</td>\n",
       "      <td>12</td>\n",
       "    </tr>\n",
       "    <tr>\n",
       "      <th>359</th>\n",
       "      <td>762</td>\n",
       "      <td>12</td>\n",
       "      <td>Shoegaze</td>\n",
       "      <td>12</td>\n",
       "    </tr>\n",
       "    <tr>\n",
       "      <th>440</th>\n",
       "      <td>116</td>\n",
       "      <td>12</td>\n",
       "      <td>Rock Opera</td>\n",
       "      <td>12</td>\n",
       "    </tr>\n",
       "  </tbody>\n",
       "</table>\n",
       "</div>"
      ],
      "text/plain": [
       "          #tracks  parent        title  top_level\n",
       "genre_id                                         \n",
       "25           9261      12         Punk         12\n",
       "26           1952      12    Post-Rock         12\n",
       "27           6041      12        Lo-Fi         12\n",
       "31           1498      12        Metal         12\n",
       "36            688      12    Krautrock         12\n",
       "45           2469      12    Loud-Rock         12\n",
       "58           2502      12   Psych-Rock         12\n",
       "66           5432      12   Indie-Rock         12\n",
       "70           2230      12   Industrial         12\n",
       "85           3548      12       Garage         12\n",
       "88            517      12     New Wave         12\n",
       "98            795      12  Progressive         12\n",
       "314           482      12         Goth         12\n",
       "359           762      12     Shoegaze         12\n",
       "440           116      12   Rock Opera         12"
      ]
     },
     "execution_count": 46,
     "metadata": {},
     "output_type": "execute_result"
    }
   ],
   "source": [
    "sous_genres('Rock')"
   ]
  },
  {
   "cell_type": "code",
   "execution_count": null,
   "metadata": {},
   "outputs": [],
   "source": [
    "def genre_spotify_to_FMA(spotify_genre_list)"
   ]
  },
  {
   "cell_type": "markdown",
   "metadata": {
    "heading_collapsed": true
   },
   "source": [
    "# Viz Echonest"
   ]
  },
  {
   "cell_type": "markdown",
   "metadata": {},
   "source": [
    "# Exploration echonest"
   ]
  },
  {
   "cell_type": "code",
   "execution_count": null,
   "metadata": {},
   "outputs": [],
   "source": [
    "#feature groups and nb of features in each group\n",
    "echonest_feature_groups = np.unique(np.array([col[0] for col in echonest.echonest.columns])).tolist()\n",
    "echonest_feature_groups_counts = np.unique(np.array([col[0] for col in echonest.echonest.columns]), return_counts=True)[1].tolist()"
   ]
  },
  {
   "cell_type": "code",
   "execution_count": null,
   "metadata": {},
   "outputs": [],
   "source": [
    "print(echonest_feature_groups, echonest_feature_groups_counts)"
   ]
  },
  {
   "cell_type": "code",
   "execution_count": null,
   "metadata": {},
   "outputs": [],
   "source": [
    "#plotting audio features\n",
    "fig = plt.figure(figsize=(25,8))\n",
    "i = 1\n",
    "for feature in echonest.echonest.audio_features.columns:\n",
    "        fig.add_subplot(1,len(echonest.echonest.audio_features.columns),i)\n",
    "        plt.hist(echonest.echonest.audio_features[feature])\n",
    "        plt.title(feature)\n",
    "        i+=1"
   ]
  },
  {
   "cell_type": "code",
   "execution_count": null,
   "metadata": {},
   "outputs": [],
   "source": [
    "# plotting ranks features\n",
    "fig = plt.figure(figsize=(25,8))\n",
    "i = 1\n",
    "for feature in echonest.echonest.ranks.columns:\n",
    "        fig.add_subplot(1,len(echonest.echonest.ranks.columns),i)\n",
    "        plt.hist(echonest.echonest.ranks[feature])\n",
    "        plt.title(feature)\n",
    "        i+=1"
   ]
  },
  {
   "cell_type": "code",
   "execution_count": null,
   "metadata": {},
   "outputs": [],
   "source": [
    "# plotting social features\n",
    "fig = plt.figure(figsize=(25,8))\n",
    "i = 1\n",
    "for feature in echonest.echonest.social_features.columns:\n",
    "        fig.add_subplot(1,len(echonest.echonest.social_features.columns),i)\n",
    "        plt.hist(echonest.echonest.social_features[feature])\n",
    "        plt.title(feature)\n",
    "        i+=1"
   ]
  },
  {
   "cell_type": "code",
   "execution_count": null,
   "metadata": {},
   "outputs": [],
   "source": [
    "#describing temporal features\n",
    "echonest.echonest.temporal_features.describe()"
   ]
  }
 ],
 "metadata": {
  "kernelspec": {
   "display_name": "Python 3",
   "language": "python",
   "name": "python3"
  },
  "language_info": {
   "codemirror_mode": {
    "name": "ipython",
    "version": 3
   },
   "file_extension": ".py",
   "mimetype": "text/x-python",
   "name": "python",
   "nbconvert_exporter": "python",
   "pygments_lexer": "ipython3",
   "version": "3.8.5"
  },
  "toc": {
   "base_numbering": 1,
   "nav_menu": {},
   "number_sections": true,
   "sideBar": true,
   "skip_h1_title": false,
   "title_cell": "Table of Contents",
   "title_sidebar": "Contents",
   "toc_cell": false,
   "toc_position": {},
   "toc_section_display": true,
   "toc_window_display": false
  },
  "varInspector": {
   "cols": {
    "lenName": 16,
    "lenType": 16,
    "lenVar": 40
   },
   "kernels_config": {
    "python": {
     "delete_cmd_postfix": "",
     "delete_cmd_prefix": "del ",
     "library": "var_list.py",
     "varRefreshCmd": "print(var_dic_list())"
    },
    "r": {
     "delete_cmd_postfix": ") ",
     "delete_cmd_prefix": "rm(",
     "library": "var_list.r",
     "varRefreshCmd": "cat(var_dic_list()) "
    }
   },
   "types_to_exclude": [
    "module",
    "function",
    "builtin_function_or_method",
    "instance",
    "_Feature"
   ],
   "window_display": false
  }
 },
 "nbformat": 4,
 "nbformat_minor": 4
}
