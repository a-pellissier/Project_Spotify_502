{
 "cells": [
  {
   "cell_type": "code",
   "execution_count": 1,
   "metadata": {
    "ExecuteTime": {
     "end_time": "2020-11-30T16:17:49.678784Z",
     "start_time": "2020-11-30T16:17:49.416513Z"
    }
   },
   "outputs": [],
   "source": [
    "# get artist genre tags \n",
    "import spotipy\n",
    "from spotipy.oauth2 import SpotifyClientCredentials\n",
    "\n",
    "lz_uri = 'spotify:artist:0s2YIpNnjdf0FY4tNrF8Y4'\n",
    "\n",
    "spotify = spotipy.Spotify(client_credentials_manager=SpotifyClientCredentials())\n",
    "results = spotify.artist(lz_uri)\n",
    "\n",
    "genres = results['genres']"
   ]
  },
  {
   "cell_type": "code",
   "execution_count": 2,
   "metadata": {},
   "outputs": [
    {
     "data": {
      "text/plain": [
       "['german techno', 'microhouse', 'minimal tech house', 'minimal techno']"
      ]
     },
     "execution_count": 2,
     "metadata": {},
     "output_type": "execute_result"
    }
   ],
   "source": [
    "genres"
   ]
  },
  {
   "cell_type": "code",
   "execution_count": 14,
   "metadata": {},
   "outputs": [
    {
     "name": "stdout",
     "output_type": "stream",
     "text": [
      "Bleu fuchsia\n",
      "Odezenne\n",
      "https://p.scdn.co/mp3-preview/2f2e3c3d703201fd1c6b768b6db659449efa4309?cid=c17d954da3c447fd94df4a4f54a7b13b\n",
      "Matin\n",
      "Odezenne\n",
      "https://p.scdn.co/mp3-preview/26ee2235e623ec3cd507202cd8a59ab705e216c3?cid=c17d954da3c447fd94df4a4f54a7b13b\n",
      "Salope d'amour\n",
      "Odezenne\n",
      "https://p.scdn.co/mp3-preview/e6fb9079a85daf83189ceb42e634c75420a470eb?cid=c17d954da3c447fd94df4a4f54a7b13b\n",
      "Pouchkine\n",
      "Odezenne\n",
      "https://p.scdn.co/mp3-preview/6a7b70adc4dba81813fe710cdc926067b05035bb?cid=c17d954da3c447fd94df4a4f54a7b13b\n",
      "Delta\n",
      "Odezenne\n",
      "https://p.scdn.co/mp3-preview/dfeba1fc748089898455d44bf9ba0d09296d843e?cid=c17d954da3c447fd94df4a4f54a7b13b\n"
     ]
    }
   ],
   "source": [
    "# GET album Tracks and previews\n",
    "\n",
    "lz_uri = 'spotify:album:7rJGtJY0medXqW1tmIVqWk'\n",
    "\n",
    "spotify = spotipy.Spotify(client_credentials_manager=SpotifyClientCredentials())\n",
    "results = spotify.album_tracks(lz_uri)\n",
    "\n",
    "for track in results['items']:\n",
    "    print(track['name'])\n",
    "    print(track['artists'][0]['name'])\n",
    "    print(track['preview_url'])"
   ]
  },
  {
   "cell_type": "code",
   "execution_count": 25,
   "metadata": {},
   "outputs": [
    {
     "name": "stdout",
     "output_type": "stream",
     "text": [
      "0 Josman  –  Lifestyle\n",
      "0 https://p.scdn.co/mp3-preview/e8486867401864f82e8f73d591ec32985dedfb1d?cid=c17d954da3c447fd94df4a4f54a7b13b <class 'str'>\n",
      "1 PLK  –  Go (feat. Krisy)\n",
      "1 https://p.scdn.co/mp3-preview/d8ecbe99d504bb3c1d4e6d2ee6a479c88d8a28f0?cid=c17d954da3c447fd94df4a4f54a7b13b <class 'str'>\n",
      "2 Seth Gueko  –  Dans quelques euros\n",
      "2 https://p.scdn.co/mp3-preview/99702304f3c912c1135b1670b857de67de278fa3?cid=c17d954da3c447fd94df4a4f54a7b13b <class 'str'>\n",
      "3 Booba  –  Killer\n",
      "3 None <class 'NoneType'>\n",
      "4 Mac Miller  –  Kool Aid and Frozen Pizza\n",
      "4 https://p.scdn.co/mp3-preview/22e42e3345b4539f03ef68880241fdd3ceedf20b?cid=c17d954da3c447fd94df4a4f54a7b13b <class 'str'>\n",
      "5 Gambi  –  J'DEVIENS FOU\n",
      "5 https://p.scdn.co/mp3-preview/b8a0c7dc80f9401577f1778e6db29dfe51dc8ce0?cid=c17d954da3c447fd94df4a4f54a7b13b <class 'str'>\n",
      "6 Booba  –  DKR\n",
      "6 None <class 'NoneType'>\n",
      "7 Kofs  –  Bande organisée\n",
      "7 https://p.scdn.co/mp3-preview/84e47fdc234be5259d1f9bf21298faab836c24a4?cid=c17d954da3c447fd94df4a4f54a7b13b <class 'str'>\n",
      "8 Kekra  –  C'est bon\n",
      "8 https://p.scdn.co/mp3-preview/e2129ca42869d87810d1c3c3c51ea63833b13300?cid=c17d954da3c447fd94df4a4f54a7b13b <class 'str'>\n",
      "9 Makala  –  Toys R Us\n",
      "9 https://p.scdn.co/mp3-preview/adf44861d72ad9c58dd94a0be1c285c857d52c0d?cid=c17d954da3c447fd94df4a4f54a7b13b <class 'str'>\n"
     ]
    }
   ],
   "source": [
    "# GET collection(titres likés) tracks and previews\n",
    "\n",
    "#saved stuff and playlists\n",
    "# spotify.current_user_saved_albums(limit= 100, offset = 0)\n",
    "# spotify.current_user_playlists()\n",
    "# spotify.current_user()\n",
    "\n",
    "import spotipy\n",
    "from spotipy.oauth2 import SpotifyOAuth, SpotifyClientCredentials\n",
    "\n",
    "lz_uri = 'spotify:playlist:27moYnSBt2dnRGl4titwFB'\n",
    "\n",
    "spotify = spotipy.Spotify(client_credentials_manager=SpotifyClientCredentials())\n",
    "results = spotify.playlist_tracks(lz_uri, limit=10)\n",
    "\n",
    "for idx, item in enumerate(results['items']):\n",
    "    track = item['track']\n",
    "    print(idx, track['artists'][0]['name'], \" – \", track['name'])\n",
    "    print(idx, track['preview_url'], type(track['preview_url']))"
   ]
  },
  {
   "cell_type": "code",
   "execution_count": null,
   "metadata": {},
   "outputs": [],
   "source": [
    "# GET collection(titres likés) tracks and previews\n",
    "\n",
    "#saved stuff and playlists\n",
    "# spotify.current_user_saved_albums(limit= 100, offset = 0)\n",
    "# spotify.current_user_playlists()\n",
    "# spotify.current_user()\n",
    "\n",
    "# authorizing the scope 'user-library-read'\n",
    "from spotipy.oauth2 import SpotifyOAuth\n",
    "\n",
    "scope = \"user-library-read\"\n",
    "\n",
    "sp = spotipy.Spotify(auth_manager=SpotifyOAuth(scope=scope))\n",
    "results = sp.current_user_saved_tracks(limit=50)\n",
    "\n",
    "for idx, item in enumerate(results['items']):\n",
    "    track = item['track']\n",
    "    print(idx, track['artists'][0]['name'], \" – \", track['name'])\n",
    "    print(idx, track['preview_url'])"
   ]
  },
  {
   "cell_type": "code",
   "execution_count": 47,
   "metadata": {},
   "outputs": [],
   "source": [
    "import pandas as pd"
   ]
  },
  {
   "cell_type": "code",
   "execution_count": 65,
   "metadata": {},
   "outputs": [],
   "source": [
    "metadata = pd.DataFrame(columns=['artists', 'album' ,'track_name', 'preview_url', 'genres', 'main_genre','genre_summary'])"
   ]
  },
  {
   "cell_type": "code",
   "execution_count": 66,
   "metadata": {},
   "outputs": [
    {
     "data": {
      "text/html": [
       "<div>\n",
       "<style scoped>\n",
       "    .dataframe tbody tr th:only-of-type {\n",
       "        vertical-align: middle;\n",
       "    }\n",
       "\n",
       "    .dataframe tbody tr th {\n",
       "        vertical-align: top;\n",
       "    }\n",
       "\n",
       "    .dataframe thead th {\n",
       "        text-align: right;\n",
       "    }\n",
       "</style>\n",
       "<table border=\"1\" class=\"dataframe\">\n",
       "  <thead>\n",
       "    <tr style=\"text-align: right;\">\n",
       "      <th></th>\n",
       "      <th>artists</th>\n",
       "      <th>album</th>\n",
       "      <th>track_name</th>\n",
       "      <th>preview_url</th>\n",
       "      <th>genres</th>\n",
       "      <th>main_genre</th>\n",
       "      <th>genre_summary</th>\n",
       "    </tr>\n",
       "  </thead>\n",
       "  <tbody>\n",
       "  </tbody>\n",
       "</table>\n",
       "</div>"
      ],
      "text/plain": [
       "Empty DataFrame\n",
       "Columns: [artists, album, track_name, preview_url, genres, main_genre, genre_summary]\n",
       "Index: []"
      ]
     },
     "execution_count": 66,
     "metadata": {},
     "output_type": "execute_result"
    }
   ],
   "source": [
    "metadata"
   ]
  },
  {
   "cell_type": "code",
   "execution_count": 67,
   "metadata": {},
   "outputs": [],
   "source": [
    "track_id = 'djdjdjd'"
   ]
  },
  {
   "cell_type": "code",
   "execution_count": 68,
   "metadata": {},
   "outputs": [],
   "source": [
    "metadata.loc[track_id,'track_name']='chaud de ouf'"
   ]
  },
  {
   "cell_type": "code",
   "execution_count": 69,
   "metadata": {},
   "outputs": [],
   "source": [
    "metadata.loc[track_id,'preview_url']= None"
   ]
  },
  {
   "cell_type": "code",
   "execution_count": 70,
   "metadata": {},
   "outputs": [
    {
     "data": {
      "text/html": [
       "<div>\n",
       "<style scoped>\n",
       "    .dataframe tbody tr th:only-of-type {\n",
       "        vertical-align: middle;\n",
       "    }\n",
       "\n",
       "    .dataframe tbody tr th {\n",
       "        vertical-align: top;\n",
       "    }\n",
       "\n",
       "    .dataframe thead th {\n",
       "        text-align: right;\n",
       "    }\n",
       "</style>\n",
       "<table border=\"1\" class=\"dataframe\">\n",
       "  <thead>\n",
       "    <tr style=\"text-align: right;\">\n",
       "      <th></th>\n",
       "      <th>artists</th>\n",
       "      <th>album</th>\n",
       "      <th>track_name</th>\n",
       "      <th>preview_url</th>\n",
       "      <th>genres</th>\n",
       "      <th>main_genre</th>\n",
       "      <th>genre_summary</th>\n",
       "    </tr>\n",
       "  </thead>\n",
       "  <tbody>\n",
       "    <tr>\n",
       "      <th>djdjdjd</th>\n",
       "      <td>NaN</td>\n",
       "      <td>NaN</td>\n",
       "      <td>chaud de ouf</td>\n",
       "      <td>None</td>\n",
       "      <td>NaN</td>\n",
       "      <td>NaN</td>\n",
       "      <td>NaN</td>\n",
       "    </tr>\n",
       "  </tbody>\n",
       "</table>\n",
       "</div>"
      ],
      "text/plain": [
       "        artists album    track_name preview_url genres main_genre  \\\n",
       "djdjdjd     NaN   NaN  chaud de ouf        None    NaN        NaN   \n",
       "\n",
       "        genre_summary  \n",
       "djdjdjd           NaN  "
      ]
     },
     "execution_count": 70,
     "metadata": {},
     "output_type": "execute_result"
    }
   ],
   "source": [
    "metadata"
   ]
  },
  {
   "cell_type": "code",
   "execution_count": 71,
   "metadata": {},
   "outputs": [],
   "source": [
    "dico = dict(a={'a1':1, 'a2': 2}, b={'b1':1,'b2':2})"
   ]
  },
  {
   "cell_type": "code",
   "execution_count": 72,
   "metadata": {},
   "outputs": [
    {
     "data": {
      "text/plain": [
       "{'a': {'a1': 1, 'a2': 2}, 'b': {'b1': 1, 'b2': 2}}"
      ]
     },
     "execution_count": 72,
     "metadata": {},
     "output_type": "execute_result"
    }
   ],
   "source": [
    "dico"
   ]
  },
  {
   "cell_type": "code",
   "execution_count": 76,
   "metadata": {},
   "outputs": [],
   "source": [
    "dictlist = []\n",
    "for key, value in dico.items():\n",
    "    temp = [key,value]\n",
    "    dictlist.append(temp)"
   ]
  },
  {
   "cell_type": "code",
   "execution_count": 77,
   "metadata": {},
   "outputs": [],
   "source": [
    "metadata.loc[track_id,'genre_summary']= dictlist"
   ]
  },
  {
   "cell_type": "code",
   "execution_count": 78,
   "metadata": {},
   "outputs": [
    {
     "data": {
      "text/html": [
       "<div>\n",
       "<style scoped>\n",
       "    .dataframe tbody tr th:only-of-type {\n",
       "        vertical-align: middle;\n",
       "    }\n",
       "\n",
       "    .dataframe tbody tr th {\n",
       "        vertical-align: top;\n",
       "    }\n",
       "\n",
       "    .dataframe thead th {\n",
       "        text-align: right;\n",
       "    }\n",
       "</style>\n",
       "<table border=\"1\" class=\"dataframe\">\n",
       "  <thead>\n",
       "    <tr style=\"text-align: right;\">\n",
       "      <th></th>\n",
       "      <th>artists</th>\n",
       "      <th>album</th>\n",
       "      <th>track_name</th>\n",
       "      <th>preview_url</th>\n",
       "      <th>genres</th>\n",
       "      <th>main_genre</th>\n",
       "      <th>genre_summary</th>\n",
       "    </tr>\n",
       "  </thead>\n",
       "  <tbody>\n",
       "    <tr>\n",
       "      <th>djdjdjd</th>\n",
       "      <td>NaN</td>\n",
       "      <td>NaN</td>\n",
       "      <td>chaud de ouf</td>\n",
       "      <td>None</td>\n",
       "      <td>NaN</td>\n",
       "      <td>NaN</td>\n",
       "      <td>[[a, {'a1': 1, 'a2': 2}], [b, {'b1': 1, 'b2': ...</td>\n",
       "    </tr>\n",
       "  </tbody>\n",
       "</table>\n",
       "</div>"
      ],
      "text/plain": [
       "        artists album    track_name preview_url genres main_genre  \\\n",
       "djdjdjd     NaN   NaN  chaud de ouf        None    NaN        NaN   \n",
       "\n",
       "                                             genre_summary  \n",
       "djdjdjd  [[a, {'a1': 1, 'a2': 2}], [b, {'b1': 1, 'b2': ...  "
      ]
     },
     "execution_count": 78,
     "metadata": {},
     "output_type": "execute_result"
    }
   ],
   "source": [
    "metadata"
   ]
  },
  {
   "cell_type": "code",
   "execution_count": 40,
   "metadata": {},
   "outputs": [
    {
     "data": {
      "text/html": [
       "<div>\n",
       "<style scoped>\n",
       "    .dataframe tbody tr th:only-of-type {\n",
       "        vertical-align: middle;\n",
       "    }\n",
       "\n",
       "    .dataframe tbody tr th {\n",
       "        vertical-align: top;\n",
       "    }\n",
       "\n",
       "    .dataframe thead th {\n",
       "        text-align: right;\n",
       "    }\n",
       "</style>\n",
       "<table border=\"1\" class=\"dataframe\">\n",
       "  <thead>\n",
       "    <tr style=\"text-align: right;\">\n",
       "      <th></th>\n",
       "      <th>a</th>\n",
       "      <th>b</th>\n",
       "      <th>c</th>\n",
       "    </tr>\n",
       "  </thead>\n",
       "  <tbody>\n",
       "    <tr>\n",
       "      <th>row_1</th>\n",
       "      <td>1</td>\n",
       "      <td>2</td>\n",
       "      <td>3</td>\n",
       "    </tr>\n",
       "  </tbody>\n",
       "</table>\n",
       "</div>"
      ],
      "text/plain": [
       "       a  b  c\n",
       "row_1  1  2  3"
      ]
     },
     "execution_count": 40,
     "metadata": {},
     "output_type": "execute_result"
    }
   ],
   "source": [
    "df"
   ]
  },
  {
   "cell_type": "code",
   "execution_count": 16,
   "metadata": {},
   "outputs": [],
   "source": [
    "def get_collection_metadata(nb_of_tracks=20, offset=0):\n",
    "    '''\n",
    "    Returns dataframe with index = ids of tracks in the playlist and columns = artists, track name, preview url, genres and main genre\n",
    "    '''\n",
    "    metadata = pd.DataFrame(columns=['artists','track_name','preview_url','genres','top_genre','genre_summary','playlist_genre','playlist_id'])\n",
    "\n",
    "    scope = \"user-library-read\"\n",
    "    sp = spotipy.Spotify(auth_manager=SpotifyOAuth(scope=scope))\n",
    "    results = sp.current_user_saved_tracks(limit=nb_of_tracks, offset=offset)\n",
    "    passed = 0\n",
    "\n",
    "    for idx, item in enumerate(results['items']):\n",
    "        #creating row of metadata for the given track\n",
    "        track = item['track']\n",
    "        try:\n",
    "            tid = track['id']\n",
    "            print(tid)\n",
    "        except Exception:\n",
    "            tid = None\n",
    "        \n",
    "        #all the below is to get the genre\n",
    "        #get artist id of a given track\n",
    "        if tid != None:\n",
    "            try:\n",
    "                lz_uri = f'spotify:track:{tid}'\n",
    "                res = spotify.track(lz_uri)\n",
    "                artist_id = res['album']['artists'][0]['id']\n",
    "\n",
    "                #get genres from the artist\n",
    "                lz_uri = f'spotify:artist:{artist_id}'\n",
    "                spotify = spotipy.Spotify(client_credentials_manager=SpotifyClientCredentials())\n",
    "                res = spotify.artist(lz_uri)\n",
    "                if type(res['genres']) == list:\n",
    "                    metadata.loc[tid, 'genres'] = res['genres']\n",
    "                    metadata.loc[tid,'top_genre'] = genre_spotify_to_FMA(res['genres'])[0]\n",
    "                    genre_summary_list = []\n",
    "                    for key, value in genre_spotify_to_FMA(res['genres'])[1].items():\n",
    "                        temp = [key,value]\n",
    "                        genre_summary_list.append(temp)\n",
    "                    metadata.loc[tid, 'genre_summary'] = genre_summary_list\n",
    "                else:\n",
    "                    metadata.loc[tid, 'genres'] = None\n",
    "                    metadata.loc[tid,'top_genre'] = None\n",
    "                    metadata.loc[tid, 'genre_summary'] = None\n",
    "            \n",
    "                #easy columns to fill in the floop\n",
    "                metadata.loc[tid,'artists'] =track['artists'][0]['name']\n",
    "                metadata.loc[tid,'track_name'] =track['name']\n",
    "                metadata.loc[tid,'preview_url'] = track['preview_url']\n",
    "            except Exception as e:\n",
    "                passed += 1\n",
    "                print(e)\n",
    "        else:\n",
    "            passed +=1\n",
    "\n",
    "    # columns filled at once\n",
    "    metadata.playlist_genre = 'user_collection'\n",
    "    metadata.playlist_id = 'user_collection'\n",
    "\n",
    "    return metadata, passed"
   ]
  },
  {
   "cell_type": "code",
   "execution_count": 17,
   "metadata": {},
   "outputs": [
    {
     "name": "stdout",
     "output_type": "stream",
     "text": [
      "4oIOjPIcIK4yDJD9Fl5mOg\n",
      "local variable 'spotify' referenced before assignment\n",
      "5BxHfyGk49gqbg5BdW6FO4\n",
      "local variable 'spotify' referenced before assignment\n",
      "2SPNs07BKygbkbf48KNFEQ\n",
      "local variable 'spotify' referenced before assignment\n",
      "5rc28C9Ym7zIAypx3QGcnv\n",
      "local variable 'spotify' referenced before assignment\n",
      "2Gn3QqE9VxFBg4tExRnQaK\n",
      "local variable 'spotify' referenced before assignment\n",
      "4yQQuyjdUzVQozJrlJRnBM\n",
      "local variable 'spotify' referenced before assignment\n",
      "40IQooNkPRVtn4zlE3ZFpA\n",
      "local variable 'spotify' referenced before assignment\n",
      "2P3SLxeQHPqh8qKB6gtJY2\n",
      "local variable 'spotify' referenced before assignment\n",
      "3aGibUHhQyBsyumYHylw0K\n",
      "local variable 'spotify' referenced before assignment\n",
      "3iVcZ5G6tvkXZkZKlMpIUs\n",
      "local variable 'spotify' referenced before assignment\n",
      "1EaKU4dMbesXXd3BrLCtYG\n",
      "local variable 'spotify' referenced before assignment\n",
      "5ujh1I7NZH5agbwf7Hp8Hc\n",
      "local variable 'spotify' referenced before assignment\n",
      "2HbKqm4o0w5wEeEFXm2sD4\n",
      "local variable 'spotify' referenced before assignment\n"
     ]
    }
   ],
   "source": [
    "import pandas as pd\n",
    "metadata, passed = get_collection_metadata()"
   ]
  },
  {
   "cell_type": "code",
   "execution_count": 15,
   "metadata": {},
   "outputs": [
    {
     "data": {
      "text/html": [
       "<div>\n",
       "<style scoped>\n",
       "    .dataframe tbody tr th:only-of-type {\n",
       "        vertical-align: middle;\n",
       "    }\n",
       "\n",
       "    .dataframe tbody tr th {\n",
       "        vertical-align: top;\n",
       "    }\n",
       "\n",
       "    .dataframe thead th {\n",
       "        text-align: right;\n",
       "    }\n",
       "</style>\n",
       "<table border=\"1\" class=\"dataframe\">\n",
       "  <thead>\n",
       "    <tr style=\"text-align: right;\">\n",
       "      <th></th>\n",
       "      <th>artists</th>\n",
       "      <th>track_name</th>\n",
       "      <th>preview_url</th>\n",
       "      <th>genres</th>\n",
       "      <th>top_genre</th>\n",
       "      <th>genre_summary</th>\n",
       "      <th>playlist_genre</th>\n",
       "      <th>playlist_id</th>\n",
       "    </tr>\n",
       "  </thead>\n",
       "  <tbody>\n",
       "  </tbody>\n",
       "</table>\n",
       "</div>"
      ],
      "text/plain": [
       "Empty DataFrame\n",
       "Columns: [artists, track_name, preview_url, genres, top_genre, genre_summary, playlist_genre, playlist_id]\n",
       "Index: []"
      ]
     },
     "execution_count": 15,
     "metadata": {},
     "output_type": "execute_result"
    }
   ],
   "source": [
    "metadata"
   ]
  },
  {
   "cell_type": "code",
   "execution_count": 5,
   "metadata": {},
   "outputs": [
    {
     "name": "stdout",
     "output_type": "stream",
     "text": [
      "0 ['ambient techno', 'dub techno', 'float house', 'microhouse', 'minimal dub', 'minimal techno', 'modular techno', 'outsider house', 'techno']\n",
      "1 ['ambient techno', 'dub techno', 'float house', 'microhouse', 'minimal dub', 'minimal techno', 'modular techno', 'outsider house', 'techno']\n",
      "2 ['conscious hip hop', 'hip hop', 'rap', 'west coast rap']\n",
      "3 ['conscious hip hop', 'hip hop', 'rap', 'west coast rap']\n",
      "4 ['conscious hip hop', 'hip hop', 'rap', 'west coast rap']\n",
      "5 ['conscious hip hop', 'hip hop', 'rap', 'west coast rap']\n",
      "6 ['conscious hip hop', 'hip hop', 'rap', 'west coast rap']\n",
      "7 ['conscious hip hop', 'hip hop', 'rap', 'west coast rap']\n",
      "8 ['conscious hip hop', 'hip hop', 'rap', 'west coast rap']\n"
     ]
    }
   ],
   "source": [
    "### GET TRACKS GENRES FROM USER COLLECTION ### USING ARTIST ###\n",
    "import spotipy\n",
    "from spotipy.oauth2 import SpotifyOAuth, SpotifyClientCredentials\n",
    "\n",
    "# authorizing the scope 'user-library-read'\n",
    "scope = \"user-library-read\"\n",
    "sp = spotipy.Spotify(auth_manager=SpotifyOAuth(scope=scope))\n",
    "results = sp.current_user_saved_tracks(limit=50)\n",
    "\n",
    "# looping on playlist tracks to get their album and associated genres\n",
    "spotify = spotipy.Spotify(client_credentials_manager=SpotifyClientCredentials())\n",
    "spotify_genre_list_of_lists = []\n",
    "for idx, item in enumerate(results['items']):\n",
    "    track_id = item['track']['id']\n",
    "    \n",
    "    #get artist id of a given track\n",
    "    lz_uri = f'spotify:track:{track_id}'\n",
    "    results = spotify.track(lz_uri)\n",
    "    artist_id = results['album']['artists'][0]['id']\n",
    "\n",
    "    #get genres from the album\n",
    "    lz_uri = f'spotify:artist:{artist_id}'\n",
    "    spotify = spotipy.Spotify(client_credentials_manager=SpotifyClientCredentials())\n",
    "    results = spotify.artist(lz_uri)\n",
    "    spotify_genre_list_of_lists.append(results['genres'])\n",
    "    print(idx, results['genres'])"
   ]
  },
  {
   "cell_type": "code",
   "execution_count": 9,
   "metadata": {
    "collapsed": true
   },
   "outputs": [
    {
     "name": "stdout",
     "output_type": "stream",
     "text": [
      "0 ['french hip hop', 'pop urbaine', 'rap conscient', 'rap francais']\n",
      "1 ['french hip hop', 'pop urbaine', 'rap conscient', 'rap francais']\n",
      "2 ['french hip hop', 'old school rap francais', 'pop urbaine', 'rap inde']\n",
      "3 ['francoton', 'french hip hop', 'old school rap francais', 'pop urbaine', 'rap conscient', 'rap francais']\n",
      "4 ['hip hop', 'pittsburgh rap', 'pop rap', 'rap']\n",
      "5 ['french hip hop', 'pop urbaine', 'rap francais']\n",
      "6 ['francoton', 'french hip hop', 'old school rap francais', 'pop urbaine', 'rap conscient', 'rap francais']\n",
      "7 ['francoton', 'french hip hop', 'pop urbaine', 'rap francais', 'rap marseille']\n",
      "8 ['french hip hop', 'pop urbaine', 'rap francais']\n",
      "9 ['french hip hop', 'rap calme']\n",
      "10 ['french hip hop', 'rap calme']\n",
      "11 ['belgian hip hop', 'french hip hop', 'pop urbaine', 'rap calme', 'rap francais']\n",
      "12 ['belgian hip hop', 'french hip hop', 'pop urbaine', 'rap calme', 'rap francais']\n",
      "13 ['french hip hop', 'pop urbaine', 'rap francais']\n",
      "14 ['french hip hop', 'pop urbaine', 'rap calme']\n",
      "15 ['french hip hop', 'pop urbaine', 'rap francais']\n",
      "16 ['french hip hop', 'pop urbaine', 'rap conscient']\n",
      "17 ['french hip hop', 'pop urbaine']\n",
      "18 ['francoton', 'french hip hop', 'pop urbaine', 'rap francais']\n",
      "19 ['francoton', 'french hip hop', 'pop urbaine', 'rap francais']\n",
      "20 ['francoton', 'french hip hop', 'old school rap francais', 'pop urbaine', 'rap conscient', 'rap francais']\n",
      "21 ['belgian hip hop', 'french hip hop', 'pop urbaine', 'rap calme', 'rap francais']\n",
      "22 ['french hip hop', 'pop urbaine', 'rap francais', 'rap marseille']\n",
      "23 ['french hip hop', 'pop urbaine', 'rap conscient', 'rap francais']\n"
     ]
    }
   ],
   "source": [
    "### GET TRACKS GENRES FROM USER PLAYLIST ### USING ARTIST ###\n",
    "import spotipy\n",
    "from spotipy.oauth2 import SpotifyOAuth, SpotifyClientCredentials\n",
    "\n",
    "lz_uri = 'spotify:playlist:27moYnSBt2dnRGl4titwFB'\n",
    "\n",
    "spotify = spotipy.Spotify(client_credentials_manager=SpotifyClientCredentials())\n",
    "results = spotify.playlist_tracks(lz_uri)\n",
    "\n",
    "\n",
    "# looping on playlist tracks to get their album and associated genres\n",
    "spotify_genre_list_of_lists = []\n",
    "for idx, item in enumerate(results['items']):\n",
    "    track_id = item['track']['id']\n",
    "    \n",
    "    #get artist id of a given track\n",
    "    lz_uri = f'spotify:track:{track_id}'\n",
    "    results = spotify.track(lz_uri)\n",
    "    artist_id = results['album']['artists'][0]['id']\n",
    "\n",
    "    #get genres from the album\n",
    "    lz_uri = f'spotify:artist:{artist_id}'\n",
    "    spotify = spotipy.Spotify(client_credentials_manager=SpotifyClientCredentials())\n",
    "    results = spotify.artist(lz_uri)\n",
    "    spotify_genre_list_of_lists.append(results['genres'])\n",
    "    print(idx, results['genres'])"
   ]
  },
  {
   "cell_type": "code",
   "execution_count": 6,
   "metadata": {},
   "outputs": [
    {
     "data": {
      "text/plain": [
       "[]"
      ]
     },
     "execution_count": 6,
     "metadata": {},
     "output_type": "execute_result"
    }
   ],
   "source": [
    "spotify_genre_list_of_lists"
   ]
  },
  {
   "cell_type": "code",
   "execution_count": 7,
   "metadata": {},
   "outputs": [],
   "source": [
    "spotify_genre_seeds= [ \"acoustic\", \"afrobeat\", \"alt-rock\", \"alternative\", \"ambient\", \"anime\", \"black-metal\", \"bluegrass\", \"blues\", \"bossanova\", \"brazil\", \"breakbeat\", \"british\", \"cantopop\", \"chicago-house\", \"children\", \"chill\", \"classical\", \"club\", \"comedy\", \"country\", \"dance\", \"dancehall\", \"death-metal\", \"deep-house\", \"detroit-techno\", \"disco\", \"disney\", \"drum-and-bass\", \"dub\", \"dubstep\", \"edm\", \"electro\", \"electronic\", \"emo\", \"folk\", \"forro\", \"french\", \"funk\", \"garage\", \"german\", \"gospel\", \"goth\", \"grindcore\", \"groove\", \"grunge\", \"guitar\", \"happy\", \"hard-rock\", \"hardcore\", \"hardstyle\", \"heavy-metal\", \"hip-hop\", \"holidays\", \"honky-tonk\", \"house\", \"idm\", \"indian\", \"indie\", \"indie-pop\", \"industrial\", \"iranian\", \"j-dance\", \"j-idol\", \"j-pop\", \"j-rock\", \"jazz\", \"k-pop\", \"kids\", \"latin\", \"latino\", \"malay\", \"mandopop\", \"metal\", \"metal-misc\", \"metalcore\", \"minimal-techno\", \"movies\", \"mpb\", \"new-age\", \"new-release\", \"opera\", \"pagode\", \"party\", \"philippines-opm\", \"piano\", \"pop\", \"pop-film\", \"post-dubstep\", \"power-pop\", \"progressive-house\", \"psych-rock\", \"punk\", \"punk-rock\", \"r-n-b\", \"rainy-day\", \"reggae\", \"reggaeton\", \"road-trip\", \"rock\", \"rock-n-roll\", \"rockabilly\", \"romance\", \"sad\", \"salsa\", \"samba\", \"sertanejo\", \"show-tunes\", \"singer-songwriter\", \"ska\", \"sleep\", \"songwriter\", \"soul\", \"soundtracks\", \"spanish\", \"study\", \"summer\", \"swedish\", \"synth-pop\", \"tango\", \"techno\", \"trance\", \"trip-hop\", \"turkish\", \"work-out\", \"world-music\" ]"
   ]
  },
  {
   "cell_type": "code",
   "execution_count": 8,
   "metadata": {},
   "outputs": [
    {
     "ename": "NameError",
     "evalue": "name 'np' is not defined",
     "output_type": "error",
     "traceback": [
      "\u001b[0;31m---------------------------------------------------------------------------\u001b[0m",
      "\u001b[0;31mNameError\u001b[0m                                 Traceback (most recent call last)",
      "\u001b[0;32m<ipython-input-8-3818034b972e>\u001b[0m in \u001b[0;36m<module>\u001b[0;34m\u001b[0m\n\u001b[1;32m      2\u001b[0m \u001b[0mgenres\u001b[0m \u001b[0;34m=\u001b[0m \u001b[0mutils\u001b[0m\u001b[0;34m.\u001b[0m\u001b[0mload\u001b[0m\u001b[0;34m(\u001b[0m\u001b[0;34m'../raw_data/fma_metadata/genres.csv'\u001b[0m\u001b[0;34m)\u001b[0m\u001b[0;34m\u001b[0m\u001b[0;34m\u001b[0m\u001b[0m\n\u001b[1;32m      3\u001b[0m \u001b[0mtracks\u001b[0m \u001b[0;34m=\u001b[0m \u001b[0mutils\u001b[0m\u001b[0;34m.\u001b[0m\u001b[0mload\u001b[0m\u001b[0;34m(\u001b[0m\u001b[0;34m'../raw_data/fma_metadata/tracks.csv'\u001b[0m\u001b[0;34m)\u001b[0m\u001b[0;34m\u001b[0m\u001b[0;34m\u001b[0m\u001b[0m\n\u001b[0;32m----> 4\u001b[0;31m \u001b[0mmain_genres\u001b[0m \u001b[0;34m=\u001b[0m \u001b[0mnp\u001b[0m\u001b[0;34m.\u001b[0m\u001b[0munique\u001b[0m\u001b[0;34m(\u001b[0m\u001b[0mtracks\u001b[0m\u001b[0;34m.\u001b[0m\u001b[0mtrack\u001b[0m\u001b[0;34m.\u001b[0m\u001b[0mgenre_top\u001b[0m\u001b[0;34m[\u001b[0m\u001b[0mtracks\u001b[0m\u001b[0;34m[\u001b[0m\u001b[0;34m'set'\u001b[0m\u001b[0;34m,\u001b[0m\u001b[0;34m'subset'\u001b[0m\u001b[0;34m]\u001b[0m \u001b[0;34m==\u001b[0m \u001b[0;34m\"small\"\u001b[0m\u001b[0;34m]\u001b[0m\u001b[0;34m)\u001b[0m\u001b[0;34m\u001b[0m\u001b[0;34m\u001b[0m\u001b[0m\n\u001b[0m\u001b[1;32m      5\u001b[0m \u001b[0mmain_genres\u001b[0m\u001b[0;34m\u001b[0m\u001b[0;34m\u001b[0m\u001b[0m\n",
      "\u001b[0;31mNameError\u001b[0m: name 'np' is not defined"
     ]
    }
   ],
   "source": [
    "from Project_Spotify_502 import utils\n",
    "genres = utils.load('../raw_data/fma_metadata/genres.csv')\n",
    "tracks = utils.load('../raw_data/fma_metadata/tracks.csv')\n",
    "main_genres = np.unique(tracks.track.genre_top[tracks['set','subset'] == \"small\"])\n",
    "main_genres"
   ]
  },
  {
   "cell_type": "code",
   "execution_count": null,
   "metadata": {},
   "outputs": [],
   "source": [
    "def genre_spotify_to_FMA(spotify_genre_list):\n",
    "    '''\n",
    "    give the function a spotify genre list (ie several genre tags for one given artist)\n",
    "    it will convert it to one of the main 8 FMA genres or say it does not belong to any of those 8\n",
    "    '''\n",
    "    # listing genres and possible aliases\n",
    "    eight_genres = {'Electronic':{'Electronic':0, 'house':0, 'techno':0},\n",
    "                    'Experimental':{'Experimental':0}, \n",
    "                    'Folk':{'Folk':0, 'melancholia':0, }, \n",
    "                    'Hip-Hop':{'Hip hop':0, 'hip-hop':0, 'urbaine':0}, \n",
    "                    'Instrumental':{'Instrumental':0, 'acoustic':0, 'ambient':0,'piano':0}, \n",
    "                    'International':{'International':0,'brazil':0}, \n",
    "                    'Pop':{'Pop':0, 'indie-pop':0, 'dance':0}, \n",
    "                    'Rock':{'Rock':0, 'metal':0, 'psychedelic':0}}\n",
    "    \n",
    "    # take each item of the list and check if it contains any genre alias in our top8\n",
    "    for item in spotify_genre_list:\n",
    "        for genre in eight_genres.keys():\n",
    "            for alias in eight_genres[genre].keys():\n",
    "                if alias.lower() in item.lower():\n",
    "                    eight_genres[genre][alias] += 1\n",
    "    \n",
    "    # classify on the basis of the most represented genre \n",
    "    eight_genres_summary={}\n",
    "    for genre in eight_genres.keys():\n",
    "        eight_genres_summary[genre]=0\n",
    "        for alias in eight_genres[genre].keys():\n",
    "            eight_genres_summary[genre] += eight_genres[genre][alias]\n",
    "            \n",
    "    #defining main genre as max occurences of aliases        \n",
    "    import operator\n",
    "    main_genre = max(eight_genres_summary.items(), key=operator.itemgetter(1))[0]\n",
    "    \n",
    "    return main_genre, eight_genres_summary"
   ]
  },
  {
   "cell_type": "code",
   "execution_count": null,
   "metadata": {},
   "outputs": [],
   "source": [
    "genre_spotify_to_FMA(spotify_genre_list_of_lists[0])"
   ]
  },
  {
   "cell_type": "code",
   "execution_count": null,
   "metadata": {},
   "outputs": [],
   "source": [
    "import pandas as pd"
   ]
  },
  {
   "cell_type": "code",
   "execution_count": null,
   "metadata": {},
   "outputs": [],
   "source": [
    "df = pd.read_csv('../Project_Spotify_502/genres.csv', index_col=0)"
   ]
  },
  {
   "cell_type": "code",
   "execution_count": null,
   "metadata": {},
   "outputs": [],
   "source": [
    "df"
   ]
  },
  {
   "cell_type": "code",
   "execution_count": null,
   "metadata": {},
   "outputs": [],
   "source": []
  },
  {
   "cell_type": "code",
   "execution_count": null,
   "metadata": {
    "ExecuteTime": {
     "end_time": "2020-11-30T16:17:51.466223Z",
     "start_time": "2020-11-30T16:17:49.908938Z"
    }
   },
   "outputs": [],
   "source": [
    "from urllib.request import urlopen\n",
    "import librosa\n",
    "import os\n",
    "from spotipy.oauth2 import SpotifyOAuth\n",
    "\n",
    "def get_own_collection(nb_of_tracks=5, offset=0):\n",
    "\n",
    "    scope = \"user-library-read\"\n",
    "\n",
    "    sp = spotipy.Spotify(auth_manager=SpotifyOAuth(scope=scope))\n",
    "    results = sp.current_user_saved_tracks(limit=nb_of_tracks, offset=offset)\n",
    "\n",
    "    extracts={}\n",
    "    for idx, item in enumerate(results['items']):\n",
    "        #writing temporary mp3 from song url\n",
    "        track = item['track']\n",
    "        song_url = track['preview_url']\n",
    "        sample_30s = urlopen(song_url)\n",
    "        mp3_path = \"temp.mp3\"\n",
    "        output = open(mp3_path, 'wb')\n",
    "        output.write(sample_30s.read())\n",
    "\n",
    "        #loading with librosa and saving in the dictionary\n",
    "        tid = f'200{idx:03}'\n",
    "        x, sr = librosa.load('temp.mp3', sr=None, mono=True)\n",
    "        extracts[tid]=(x, sr)\n",
    "        return extracts"
   ]
  },
  {
   "cell_type": "code",
   "execution_count": null,
   "metadata": {},
   "outputs": [],
   "source": [
    "extracts = get_own_collection(5,0)"
   ]
  },
  {
   "cell_type": "code",
   "execution_count": null,
   "metadata": {},
   "outputs": [],
   "source": [
    "extracts"
   ]
  },
  {
   "cell_type": "code",
   "execution_count": null,
   "metadata": {
    "ExecuteTime": {
     "end_time": "2020-11-30T16:17:53.074758Z",
     "start_time": "2020-11-30T16:17:51.474783Z"
    }
   },
   "outputs": [],
   "source": [
    "import IPython.display as ipd\n",
    "ipd.Audio(data=extracts['200000'][0], rate=extracts['200000'][1])"
   ]
  },
  {
   "cell_type": "code",
   "execution_count": null,
   "metadata": {},
   "outputs": [],
   "source": [
    "import multiprocessing\n",
    "\n",
    "liste = [('tid1','x1','sr1'),('tid2','x2','sr2')]\n",
    "def func(x):\n",
    "    return f\"{x[0]} et {x[1]} et {x[2]}\"\n",
    "\n",
    "pool = multiprocessing.Pool(12)\n",
    "it = pool.imap_unordered(func, liste)\n",
    "\n",
    "for value in it:\n",
    "    print(value)"
   ]
  },
  {
   "cell_type": "code",
   "execution_count": null,
   "metadata": {},
   "outputs": [],
   "source": [
    "import pandas as pd\n",
    "features = pd.DataFrame(dict(a=[0,1,2],b=[3,4,5]))"
   ]
  },
  {
   "cell_type": "code",
   "execution_count": null,
   "metadata": {},
   "outputs": [],
   "source": [
    "features"
   ]
  },
  {
   "cell_type": "code",
   "execution_count": null,
   "metadata": {},
   "outputs": [],
   "source": [
    "ser = pd.Series([0,1], index=['a','b'])"
   ]
  },
  {
   "cell_type": "code",
   "execution_count": null,
   "metadata": {},
   "outputs": [],
   "source": [
    "ser"
   ]
  },
  {
   "cell_type": "code",
   "execution_count": null,
   "metadata": {},
   "outputs": [],
   "source": [
    "features.loc[3,:]=ser"
   ]
  },
  {
   "cell_type": "code",
   "execution_count": null,
   "metadata": {},
   "outputs": [],
   "source": [
    "features"
   ]
  },
  {
   "cell_type": "code",
   "execution_count": 22,
   "metadata": {},
   "outputs": [],
   "source": [
    "a='dhdhfhf£'"
   ]
  },
  {
   "cell_type": "code",
   "execution_count": 23,
   "metadata": {},
   "outputs": [
    {
     "data": {
      "text/plain": [
       "str"
      ]
     },
     "execution_count": 23,
     "metadata": {},
     "output_type": "execute_result"
    }
   ],
   "source": [
    "type(a)"
   ]
  },
  {
   "cell_type": "code",
   "execution_count": 24,
   "metadata": {},
   "outputs": [
    {
     "name": "stdout",
     "output_type": "stream",
     "text": [
      "ok\n"
     ]
    }
   ],
   "source": [
    "if type(a) == str:\n",
    "    print('ok')"
   ]
  },
  {
   "cell_type": "code",
   "execution_count": null,
   "metadata": {},
   "outputs": [],
   "source": []
  }
 ],
 "metadata": {
  "kernelspec": {
   "display_name": "Python 3",
   "language": "python",
   "name": "python3"
  },
  "language_info": {
   "codemirror_mode": {
    "name": "ipython",
    "version": 3
   },
   "file_extension": ".py",
   "mimetype": "text/x-python",
   "name": "python",
   "nbconvert_exporter": "python",
   "pygments_lexer": "ipython3",
   "version": "3.8.5"
  },
  "toc": {
   "base_numbering": 1,
   "nav_menu": {},
   "number_sections": true,
   "sideBar": true,
   "skip_h1_title": false,
   "title_cell": "Table of Contents",
   "title_sidebar": "Contents",
   "toc_cell": false,
   "toc_position": {},
   "toc_section_display": true,
   "toc_window_display": false
  },
  "varInspector": {
   "cols": {
    "lenName": 16,
    "lenType": 16,
    "lenVar": 40
   },
   "kernels_config": {
    "python": {
     "delete_cmd_postfix": "",
     "delete_cmd_prefix": "del ",
     "library": "var_list.py",
     "varRefreshCmd": "print(var_dic_list())"
    },
    "r": {
     "delete_cmd_postfix": ") ",
     "delete_cmd_prefix": "rm(",
     "library": "var_list.r",
     "varRefreshCmd": "cat(var_dic_list()) "
    }
   },
   "types_to_exclude": [
    "module",
    "function",
    "builtin_function_or_method",
    "instance",
    "_Feature"
   ],
   "window_display": false
  }
 },
 "nbformat": 4,
 "nbformat_minor": 4
}
